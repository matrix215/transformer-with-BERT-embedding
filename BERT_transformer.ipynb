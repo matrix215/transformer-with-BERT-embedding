{
  "cells": [
    {
      "cell_type": "code",
      "execution_count": null,
      "id": "069a25ad",
      "metadata": {
        "id": "069a25ad"
      },
      "outputs": [],
      "source": [
        "import numpy as np\n",
        "import matplotlib.pyplot as plt\n",
        "import tensorflow as tf"
      ]
    },
    {
      "cell_type": "code",
      "execution_count": null,
      "id": "26d8ba14",
      "metadata": {
        "id": "26d8ba14",
        "outputId": "3a4d9176-203f-4c7e-fd8c-c08128733000",
        "colab": {
          "base_uri": "https://localhost:8080/",
          "height": 36
        }
      },
      "outputs": [
        {
          "output_type": "execute_result",
          "data": {
            "text/plain": [
              "'2.9.2'"
            ],
            "application/vnd.google.colaboratory.intrinsic+json": {
              "type": "string"
            }
          },
          "metadata": {},
          "execution_count": 2
        }
      ],
      "source": [
        "tf.__version__"
      ]
    },
    {
      "cell_type": "code",
      "execution_count": null,
      "id": "975d0772",
      "metadata": {
        "id": "975d0772"
      },
      "outputs": [],
      "source": [
        "# 최종 버전\n",
        "class PositionalEncoding(tf.keras.layers.Layer):\n",
        "  def __init__(self, position, d_model):\n",
        "    super(PositionalEncoding, self).__init__()\n",
        "    self.pos_encoding = self.positional_encoding(position, d_model)\n",
        "\n",
        "  def get_angles(self, position, i, d_model):\n",
        "    angles = 1 / tf.pow(10000, (2 * (i // 2)) / tf.cast(d_model, tf.float32))#pow function 거듭제곱,cast는 d_model을 float32형으로 변경\n",
        "    return position * angles\n",
        "\n",
        "  def positional_encoding(self, position, d_model):\n",
        "    angle_rads = self.get_angles(\n",
        "        position=tf.range(position, dtype=tf.float32)[:, tf.newaxis],\n",
        "        i=tf.range(d_model, dtype=tf.float32)[tf.newaxis, :],\n",
        "        d_model=d_model)\n",
        "\n",
        "    # 배열의 짝수 인덱스(2i)에는 사인 함수 적용\n",
        "    sines = tf.math.sin(angle_rads[:, 0::2])\n",
        "\n",
        "    # 배열의 홀수 인덱스(2i+1)에는 코사인 함수 적용\n",
        "    cosines = tf.math.cos(angle_rads[:, 1::2])\n",
        "\n",
        "    angle_rads = np.zeros(angle_rads.shape)\n",
        "    angle_rads[:, 0::2] = sines\n",
        "    angle_rads[:, 1::2] = cosines\n",
        "    pos_encoding = tf.constant(angle_rads)\n",
        "    pos_encoding = pos_encoding[tf.newaxis, ...]\n",
        "\n",
        "    print(pos_encoding.shape)\n",
        "    return tf.cast(pos_encoding, tf.float32)\n",
        "\n",
        "  def call(self, inputs):\n",
        "    return inputs + self.pos_encoding[:, :tf.shape(inputs)[1], :]"
      ]
    },
    {
      "cell_type": "code",
      "execution_count": null,
      "id": "613c2878",
      "metadata": {
        "id": "613c2878"
      },
      "outputs": [],
      "source": [
        "def scaled_dot_product_attention(query, key, value, mask):\n",
        "  # query 크기 : (batch_size, num_heads, query의 문장 길이, d_model/num_heads)\n",
        "  # key 크기 : (batch_size, num_heads, key의 문장 길이, d_model/num_heads)\n",
        "  # value 크기 : (batch_size, num_heads, value의 문장 길이, d_model/num_heads)\n",
        "  # padding_mask : (batch_size, 1, 1, key의 문장 길이)\n",
        "\n",
        "  # Q와 K의 곱. 어텐션 스코어 행렬.\n",
        "  matmul_qk = tf.matmul(query, key, transpose_b=True)\n",
        "\n",
        "  # 스케일링\n",
        "  # dk의 루트값으로 나눠준다.\n",
        "  depth = tf.cast(tf.shape(key)[-1], tf.float32)\n",
        "  logits = matmul_qk / tf.math.sqrt(depth)\n",
        "\n",
        "  # 마스킹. 어텐션 스코어 행렬의 마스킹 할 위치에 매우 작은 음수값을 넣는다.\n",
        "  # 매우 작은 값이므로 소프트맥스 함수를 지나면 행렬의 해당 위치의 값은 0이 된다.\n",
        "  if mask is not None:\n",
        "    logits += (mask * -1e9)\n",
        "\n",
        "  # 소프트맥스 함수는 마지막 차원인 key의 문장 길이 방향으로 수행된다.\n",
        "  # attention weight : (batch_size, num_heads, query의 문장 길이, key의 문장 길이)\n",
        "  attention_weights = tf.nn.softmax(logits, axis=-1)\n",
        "\n",
        "  # output : (batch_size, num_heads, query의 문장 길이, d_model/num_heads)\n",
        "  output = tf.matmul(attention_weights, value)\n",
        "\n",
        "  return output, attention_weights"
      ]
    },
    {
      "cell_type": "code",
      "execution_count": null,
      "id": "fa931d7b",
      "metadata": {
        "id": "fa931d7b"
      },
      "outputs": [],
      "source": [
        "class MultiHeadAttention(tf.keras.layers.Layer):\n",
        "\n",
        "  def __init__(self, d_model, num_heads, name=\"multi_head_attention\"):\n",
        "    super(MultiHeadAttention, self).__init__(name=name)\n",
        "    self.num_heads = num_heads\n",
        "    self.d_model = d_model\n",
        "\n",
        "    assert d_model % self.num_heads == 0\n",
        "\n",
        "    # d_model을 num_heads로 나눈 값.\n",
        "    # 논문 기준 : 64\n",
        "    self.depth = d_model // self.num_heads\n",
        "\n",
        "    # WQ, WK, WV에 해당하는 밀집층 정의\n",
        "    self.query_dense = tf.keras.layers.Dense(units=d_model)\n",
        "    self.key_dense = tf.keras.layers.Dense(units=d_model)\n",
        "    self.value_dense = tf.keras.layers.Dense(units=d_model)\n",
        "\n",
        "    # WO에 해당하는 밀집층 정의\n",
        "    self.dense = tf.keras.layers.Dense(units=d_model)\n",
        "\n",
        "  # num_heads 개수만큼 q, k, v를 split하는 함수\n",
        "  def split_heads(self, inputs, batch_size):\n",
        "    inputs = tf.reshape(\n",
        "        inputs, shape=(batch_size, -1, self.num_heads, self.depth))\n",
        "    return tf.transpose(inputs, perm=[0, 2, 1, 3])\n",
        "\n",
        "  def call(self, inputs):\n",
        "    query, key, value, mask = inputs['query'], inputs['key'], inputs[\n",
        "        'value'], inputs['mask']\n",
        "    batch_size = tf.shape(query)[0]\n",
        "\n",
        "    # 1. WQ, WK, WV에 해당하는 밀집층 지나기\n",
        "    # q : (batch_size, query의 문장 길이, d_model)\n",
        "    # k : (batch_size, key의 문장 길이, d_model)\n",
        "    # v : (batch_size, value의 문장 길이, d_model)\n",
        "    # 참고) 인코더(k, v)-디코더(q) 어텐션에서는 query 길이와 key, value의 길이는 다를 수 있다.\n",
        "    query = self.query_dense(query)\n",
        "    key = self.key_dense(key)\n",
        "    value = self.value_dense(value)\n",
        "\n",
        "    # 2. 헤드 나누기\n",
        "    # q : (batch_size, num_heads, query의 문장 길이, d_model/num_heads)\n",
        "    # k : (batch_size, num_heads, key의 문장 길이, d_model/num_heads)\n",
        "    # v : (batch_size, num_heads, value의 문장 길이, d_model/num_heads)\n",
        "    query = self.split_heads(query, batch_size)\n",
        "    key = self.split_heads(key, batch_size)\n",
        "    value = self.split_heads(value, batch_size)\n",
        "\n",
        "    # 3. 스케일드 닷 프로덕트 어텐션. 앞서 구현한 함수 사용.\n",
        "    # (batch_size, num_heads, query의 문장 길이, d_model/num_heads)\n",
        "    scaled_attention, _ = scaled_dot_product_attention(query, key, value, mask)\n",
        "    # (batch_size, query의 문장 길이, num_heads, d_model/num_heads)\n",
        "    scaled_attention = tf.transpose(scaled_attention, perm=[0, 2, 1, 3])\n",
        "\n",
        "    # 4. 헤드 연결(concatenate)하기\n",
        "    # (batch_size, query의 문장 길이, d_model)\n",
        "    concat_attention = tf.reshape(scaled_attention,\n",
        "                                  (batch_size, -1, self.d_model))\n",
        "\n",
        "    # 5. WO에 해당하는 밀집층 지나기\n",
        "    # (batch_size, query의 문장 길이, d_model)\n",
        "    outputs = self.dense(concat_attention)\n",
        "\n",
        "    return outputs"
      ]
    },
    {
      "cell_type": "code",
      "execution_count": null,
      "id": "f381720c",
      "metadata": {
        "id": "f381720c"
      },
      "outputs": [],
      "source": [
        "def create_padding_mask(x):\n",
        "  mask = tf.cast(tf.math.equal(x, 0), tf.float32)\n",
        "  # (batch_size, 1, 1, key의 문장 길이)\n",
        "  return mask[:, tf.newaxis, tf.newaxis, :]"
      ]
    },
    {
      "cell_type": "code",
      "execution_count": null,
      "id": "bbf51c5c",
      "metadata": {
        "id": "bbf51c5c"
      },
      "outputs": [],
      "source": [
        "def encoder_layer(dff, d_model, num_heads, dropout, name=\"encoder_layer\"):\n",
        "  inputs = tf.keras.Input(shape=(None, d_model), name=\"inputs\")\n",
        "\n",
        "  # 인코더는 패딩 마스크 사용\n",
        "  padding_mask = tf.keras.Input(shape=(1, 1, None), name=\"padding_mask\")\n",
        "\n",
        "  # 멀티-헤드 어텐션 (첫번째 서브층 / 셀프 어텐션)\n",
        "  attention = MultiHeadAttention(\n",
        "      d_model, num_heads, name=\"attention\")({\n",
        "          'query': inputs, 'key': inputs, 'value': inputs, # Q = K = V\n",
        "          'mask': padding_mask # 패딩 마스크 사용\n",
        "      })\n",
        "\n",
        "  # 드롭아웃 + 잔차 연결과 층 정규화\n",
        "  attention = tf.keras.layers.Dropout(rate=dropout)(attention)\n",
        "  attention = tf.keras.layers.LayerNormalization(\n",
        "      epsilon=1e-6)(inputs + attention)\n",
        "\n",
        "  # 포지션 와이즈 피드 포워드 신경망 (두번째 서브층)\n",
        "  outputs = tf.keras.layers.Dense(units=dff, activation='relu')(attention)\n",
        "  outputs = tf.keras.layers.Dense(units=d_model)(outputs)\n",
        "\n",
        "  # 드롭아웃 + 잔차 연결과 층 정규화\n",
        "  outputs = tf.keras.layers.Dropout(rate=dropout)(outputs)\n",
        "  outputs = tf.keras.layers.LayerNormalization(\n",
        "      epsilon=1e-6)(attention + outputs)\n",
        "\n",
        "  return tf.keras.Model(\n",
        "      inputs=[inputs, padding_mask], outputs=outputs, name=name)"
      ]
    },
    {
      "cell_type": "code",
      "execution_count": null,
      "id": "546381e4",
      "metadata": {
        "id": "546381e4"
      },
      "outputs": [],
      "source": [
        "def encoder(vocab_size, num_layers, dff,\n",
        "            d_model, num_heads, dropout,\n",
        "            name=\"encoder\"):\n",
        "  inputs = tf.keras.Input(shape=(None,), name=\"inputs\")\n",
        "\n",
        "  # 인코더는 패딩 마스크 사용\n",
        "  padding_mask = tf.keras.Input(shape=(1, 1, None), name=\"padding_mask\")\n",
        "\n",
        "  # 포지셔널 인코딩 + 드롭아웃\n",
        "  embeddings = tf.keras.layers.Embedding(vocab_size, d_model)(inputs)\n",
        "  embeddings *= tf.math.sqrt(tf.cast(d_model, tf.float32))\n",
        "  embeddings = PositionalEncoding(vocab_size, d_model)(embeddings)\n",
        "  outputs = tf.keras.layers.Dropout(rate=dropout)(embeddings)\n",
        "\n",
        "  # 인코더를 num_layers개 쌓기\n",
        "  for i in range(num_layers):\n",
        "    outputs = encoder_layer(dff=dff, d_model=d_model, num_heads=num_heads,\n",
        "        dropout=dropout, name=\"encoder_layer_{}\".format(i),\n",
        "    )([outputs, padding_mask])\n",
        "\n",
        "  return tf.keras.Model(\n",
        "      inputs=[inputs, padding_mask], outputs=outputs, name=name)"
      ]
    },
    {
      "cell_type": "code",
      "execution_count": null,
      "id": "bd371f4b",
      "metadata": {
        "id": "bd371f4b"
      },
      "outputs": [],
      "source": [
        "# 디코더의 첫번째 서브층(sublayer)에서 미래 토큰을 Mask하는 함수\n",
        "def create_look_ahead_mask(x):\n",
        "  seq_len = tf.shape(x)[1]\n",
        "  look_ahead_mask = 1 - tf.linalg.band_part(tf.ones((seq_len, seq_len)), -1, 0)\n",
        "  padding_mask = create_padding_mask(x) # 패딩 마스크도 포함\n",
        "  return tf.maximum(look_ahead_mask, padding_mask)"
      ]
    },
    {
      "cell_type": "code",
      "execution_count": null,
      "id": "a6a27a8a",
      "metadata": {
        "id": "a6a27a8a"
      },
      "outputs": [],
      "source": [
        "def decoder_layer(dff, d_model, num_heads, dropout, name=\"decoder_layer\"):\n",
        "  inputs = tf.keras.Input(shape=(None, d_model), name=\"inputs\")\n",
        "  enc_outputs = tf.keras.Input(shape=(None, d_model), name=\"encoder_outputs\")\n",
        "\n",
        "  # 디코더는 룩어헤드 마스크(첫번째 서브층)와 패딩 마스크(두번째 서브층) 둘 다 사용.\n",
        "  look_ahead_mask = tf.keras.Input(\n",
        "      shape=(1, None, None), name=\"look_ahead_mask\")\n",
        "  padding_mask = tf.keras.Input(shape=(1, 1, None), name='padding_mask')\n",
        "\n",
        "  # 멀티-헤드 어텐션 (첫번째 서브층 / 마스크드 셀프 어텐션)\n",
        "  attention1 = MultiHeadAttention(\n",
        "      d_model, num_heads, name=\"attention_1\")(inputs={\n",
        "          'query': inputs, 'key': inputs, 'value': inputs, # Q = K = V\n",
        "          'mask': look_ahead_mask # 룩어헤드 마스크\n",
        "      })\n",
        "\n",
        "  # 잔차 연결과 층 정규화\n",
        "  attention1 = tf.keras.layers.LayerNormalization(\n",
        "      epsilon=1e-6)(attention1 + inputs)\n",
        "\n",
        "  # 멀티-헤드 어텐션 (두번째 서브층 / 디코더-인코더 어텐션)\n",
        "  attention2 = MultiHeadAttention(\n",
        "      d_model, num_heads, name=\"attention_2\")(inputs={\n",
        "          'query': attention1, 'key': enc_outputs, 'value': enc_outputs, # Q != K = V\n",
        "          'mask': padding_mask # 패딩 마스크\n",
        "      })\n",
        "\n",
        "  # 드롭아웃 + 잔차 연결과 층 정규화\n",
        "  attention2 = tf.keras.layers.Dropout(rate=dropout)(attention2)\n",
        "  attention2 = tf.keras.layers.LayerNormalization(\n",
        "      epsilon=1e-6)(attention2 + attention1)\n",
        "\n",
        "  # 포지션 와이즈 피드 포워드 신경망 (세번째 서브층)\n",
        "  outputs = tf.keras.layers.Dense(units=dff, activation='relu')(attention2)\n",
        "  outputs = tf.keras.layers.Dense(units=d_model)(outputs)\n",
        "\n",
        "  # 드롭아웃 + 잔차 연결과 층 정규화\n",
        "  outputs = tf.keras.layers.Dropout(rate=dropout)(outputs)\n",
        "  outputs = tf.keras.layers.LayerNormalization(\n",
        "      epsilon=1e-6)(outputs + attention2)\n",
        "\n",
        "  return tf.keras.Model(\n",
        "      inputs=[inputs, enc_outputs, look_ahead_mask, padding_mask],\n",
        "      outputs=outputs,\n",
        "      name=name)"
      ]
    },
    {
      "cell_type": "code",
      "execution_count": null,
      "id": "5ead693d",
      "metadata": {
        "id": "5ead693d"
      },
      "outputs": [],
      "source": [
        "def decoder(vocab_size, num_layers, dff,\n",
        "            d_model, num_heads, dropout,\n",
        "            name='decoder'):\n",
        "  inputs = tf.keras.Input(shape=(None,), name='inputs')\n",
        "  enc_outputs = tf.keras.Input(shape=(None, d_model), name='encoder_outputs')\n",
        "\n",
        "  # 디코더는 룩어헤드 마스크(첫번째 서브층)와 패딩 마스크(두번째 서브층) 둘 다 사용.\n",
        "  look_ahead_mask = tf.keras.Input(\n",
        "      shape=(1, None, None), name='look_ahead_mask')\n",
        "  padding_mask = tf.keras.Input(shape=(1, 1, None), name='padding_mask')\n",
        "\n",
        "  # 포지셔널 인코딩 + 드롭아웃\n",
        "  embeddings = tf.keras.layers.Embedding(vocab_size, d_model)(inputs)\n",
        "  embeddings *= tf.math.sqrt(tf.cast(d_model, tf.float32))\n",
        "  embeddings = PositionalEncoding(vocab_size, d_model)(embeddings)\n",
        "  outputs = tf.keras.layers.Dropout(rate=dropout)(embeddings)\n",
        "\n",
        "  # 디코더를 num_layers개 쌓기\n",
        "  for i in range(num_layers):\n",
        "    outputs = decoder_layer(dff=dff, d_model=d_model, num_heads=num_heads,\n",
        "        dropout=dropout, name='decoder_layer_{}'.format(i),\n",
        "    )(inputs=[outputs, enc_outputs, look_ahead_mask, padding_mask])\n",
        "\n",
        "  return tf.keras.Model(\n",
        "      inputs=[inputs, enc_outputs, look_ahead_mask, padding_mask],\n",
        "      outputs=outputs,\n",
        "      name=name)"
      ]
    },
    {
      "cell_type": "code",
      "execution_count": null,
      "id": "6260d353",
      "metadata": {
        "id": "6260d353"
      },
      "outputs": [],
      "source": [
        "def transformer(vocab_size, num_layers, dff,\n",
        "                d_model, num_heads, dropout,\n",
        "                name=\"transformer\"):\n",
        "\n",
        "  # 인코더의 입력\n",
        "  inputs = tf.keras.Input(shape=(None,), name=\"inputs\")\n",
        "\n",
        "  # 디코더의 입력\n",
        "  dec_inputs = tf.keras.Input(shape=(None,), name=\"dec_inputs\")\n",
        "\n",
        "  # 인코더의 패딩 마스크\n",
        "  enc_padding_mask = tf.keras.layers.Lambda(\n",
        "      create_padding_mask, output_shape=(1, 1, None),\n",
        "      name='enc_padding_mask')(inputs)\n",
        "\n",
        "  # 디코더의 룩어헤드 마스크(첫번째 서브층)\n",
        "  look_ahead_mask = tf.keras.layers.Lambda(\n",
        "      create_look_ahead_mask, output_shape=(1, None, None),\n",
        "      name='look_ahead_mask')(dec_inputs)\n",
        "\n",
        "  # 디코더의 패딩 마스크(두번째 서브층)\n",
        "  dec_padding_mask = tf.keras.layers.Lambda(\n",
        "      create_padding_mask, output_shape=(1, 1, None),\n",
        "      name='dec_padding_mask')(inputs)\n",
        "\n",
        "  # 인코더의 출력은 enc_outputs. 디코더로 전달된다.\n",
        "  enc_outputs = encoder(vocab_size=vocab_size, num_layers=num_layers, dff=dff,\n",
        "      d_model=d_model, num_heads=num_heads, dropout=dropout,\n",
        "  )(inputs=[inputs, enc_padding_mask]) # 인코더의 입력은 입력 문장과 패딩 마스크\n",
        "\n",
        "  # 디코더의 출력은 dec_outputs. 출력층으로 전달된다.\n",
        "  dec_outputs = decoder(vocab_size=vocab_size, num_layers=num_layers, dff=dff,\n",
        "      d_model=d_model, num_heads=num_heads, dropout=dropout,\n",
        "  )(inputs=[dec_inputs, enc_outputs, look_ahead_mask, dec_padding_mask])\n",
        "\n",
        "  # 다음 단어 예측을 위한 출력층\n",
        "  outputs = tf.keras.layers.Dense(units=vocab_size, name=\"outputs\")(dec_outputs)\n",
        "\n",
        "  return tf.keras.Model(inputs=[inputs, dec_inputs], outputs=outputs, name=name)"
      ]
    },
    {
      "cell_type": "code",
      "execution_count": null,
      "id": "a3095872",
      "metadata": {
        "id": "a3095872"
      },
      "outputs": [],
      "source": [
        "def loss_function(y_true, y_pred):\n",
        "  y_true = tf.reshape(y_true, shape=(-1, MAX_LENGTH - 1))\n",
        "\n",
        "  loss = tf.keras.losses.SparseCategoricalCrossentropy(\n",
        "      from_logits=True, reduction='none')(y_true, y_pred)\n",
        "\n",
        "  mask = tf.cast(tf.not_equal(y_true, 0), tf.float32)\n",
        "  loss = tf.multiply(loss, mask)\n",
        "\n",
        "  return tf.reduce_mean(loss)"
      ]
    },
    {
      "cell_type": "code",
      "execution_count": null,
      "id": "c0430d54",
      "metadata": {
        "id": "c0430d54"
      },
      "outputs": [],
      "source": [
        "class CustomSchedule(tf.keras.optimizers.schedules.LearningRateSchedule):\n",
        "\n",
        "  def __init__(self, d_model, warmup_steps=4000):\n",
        "    super(CustomSchedule, self).__init__()\n",
        "    self.d_model = d_model\n",
        "    self.d_model = tf.cast(self.d_model, tf.float32)\n",
        "    self.warmup_steps = warmup_steps\n",
        "\n",
        "  def __call__(self, step):\n",
        "    arg1 = tf.math.rsqrt(step)\n",
        "    arg2 = step * (self.warmup_steps**-1.5)\n",
        "\n",
        "    return tf.math.rsqrt(self.d_model) * tf.math.minimum(arg1, arg2)"
      ]
    },
    {
      "cell_type": "code",
      "execution_count": null,
      "id": "b82604bd",
      "metadata": {
        "id": "b82604bd"
      },
      "outputs": [],
      "source": [
        "import pandas as pd\n",
        "import urllib.request\n",
        "import tensorflow_datasets as tfds\n",
        "import tensorflow as tf\n",
        "import time\n",
        "import numpy as np\n",
        "import matplotlib.pyplot as plt\n",
        "import re"
      ]
    },
    {
      "cell_type": "code",
      "source": [
        "from google.colab import drive\n",
        "drive.mount('/content/drive')"
      ],
      "metadata": {
        "id": "X8mLcu4xZt_c",
        "colab": {
          "base_uri": "https://localhost:8080/"
        },
        "outputId": "1e6b5ae0-cf38-4191-ff28-7540208fbbca"
      },
      "id": "X8mLcu4xZt_c",
      "execution_count": null,
      "outputs": [
        {
          "output_type": "stream",
          "name": "stdout",
          "text": [
            "Mounted at /content/drive\n"
          ]
        }
      ]
    },
    {
      "cell_type": "code",
      "execution_count": null,
      "id": "4ed088b8",
      "metadata": {
        "id": "4ed088b8",
        "colab": {
          "base_uri": "https://localhost:8080/",
          "height": 206
        },
        "outputId": "5a3f59d3-ceac-419f-f50e-10ef05f11c13"
      },
      "outputs": [
        {
          "output_type": "execute_result",
          "data": {
            "text/plain": [
              "                                       a\n",
              "0  안녕하세요 제가 강원도 순천에 #@소속# 으로 골프여행을 가려 해요\n",
              "1                    그러시군요 제가 무엇을 도와드릴까요\n",
              "2                      비가 올 수도 있다고 써있어서요\n",
              "3                          혹시 환불차 문의하셨나요\n",
              "4              아니오 그건 아니고 거기 가서도 환불이 되나요"
            ],
            "text/html": [
              "\n",
              "  <div id=\"df-a9161799-a805-436b-a747-ad7a60137740\">\n",
              "    <div class=\"colab-df-container\">\n",
              "      <div>\n",
              "<style scoped>\n",
              "    .dataframe tbody tr th:only-of-type {\n",
              "        vertical-align: middle;\n",
              "    }\n",
              "\n",
              "    .dataframe tbody tr th {\n",
              "        vertical-align: top;\n",
              "    }\n",
              "\n",
              "    .dataframe thead th {\n",
              "        text-align: right;\n",
              "    }\n",
              "</style>\n",
              "<table border=\"1\" class=\"dataframe\">\n",
              "  <thead>\n",
              "    <tr style=\"text-align: right;\">\n",
              "      <th></th>\n",
              "      <th>a</th>\n",
              "    </tr>\n",
              "  </thead>\n",
              "  <tbody>\n",
              "    <tr>\n",
              "      <th>0</th>\n",
              "      <td>안녕하세요 제가 강원도 순천에 #@소속# 으로 골프여행을 가려 해요</td>\n",
              "    </tr>\n",
              "    <tr>\n",
              "      <th>1</th>\n",
              "      <td>그러시군요 제가 무엇을 도와드릴까요</td>\n",
              "    </tr>\n",
              "    <tr>\n",
              "      <th>2</th>\n",
              "      <td>비가 올 수도 있다고 써있어서요</td>\n",
              "    </tr>\n",
              "    <tr>\n",
              "      <th>3</th>\n",
              "      <td>혹시 환불차 문의하셨나요</td>\n",
              "    </tr>\n",
              "    <tr>\n",
              "      <th>4</th>\n",
              "      <td>아니오 그건 아니고 거기 가서도 환불이 되나요</td>\n",
              "    </tr>\n",
              "  </tbody>\n",
              "</table>\n",
              "</div>\n",
              "      <button class=\"colab-df-convert\" onclick=\"convertToInteractive('df-a9161799-a805-436b-a747-ad7a60137740')\"\n",
              "              title=\"Convert this dataframe to an interactive table.\"\n",
              "              style=\"display:none;\">\n",
              "        \n",
              "  <svg xmlns=\"http://www.w3.org/2000/svg\" height=\"24px\"viewBox=\"0 0 24 24\"\n",
              "       width=\"24px\">\n",
              "    <path d=\"M0 0h24v24H0V0z\" fill=\"none\"/>\n",
              "    <path d=\"M18.56 5.44l.94 2.06.94-2.06 2.06-.94-2.06-.94-.94-2.06-.94 2.06-2.06.94zm-11 1L8.5 8.5l.94-2.06 2.06-.94-2.06-.94L8.5 2.5l-.94 2.06-2.06.94zm10 10l.94 2.06.94-2.06 2.06-.94-2.06-.94-.94-2.06-.94 2.06-2.06.94z\"/><path d=\"M17.41 7.96l-1.37-1.37c-.4-.4-.92-.59-1.43-.59-.52 0-1.04.2-1.43.59L10.3 9.45l-7.72 7.72c-.78.78-.78 2.05 0 2.83L4 21.41c.39.39.9.59 1.41.59.51 0 1.02-.2 1.41-.59l7.78-7.78 2.81-2.81c.8-.78.8-2.07 0-2.86zM5.41 20L4 18.59l7.72-7.72 1.47 1.35L5.41 20z\"/>\n",
              "  </svg>\n",
              "      </button>\n",
              "      \n",
              "  <style>\n",
              "    .colab-df-container {\n",
              "      display:flex;\n",
              "      flex-wrap:wrap;\n",
              "      gap: 12px;\n",
              "    }\n",
              "\n",
              "    .colab-df-convert {\n",
              "      background-color: #E8F0FE;\n",
              "      border: none;\n",
              "      border-radius: 50%;\n",
              "      cursor: pointer;\n",
              "      display: none;\n",
              "      fill: #1967D2;\n",
              "      height: 32px;\n",
              "      padding: 0 0 0 0;\n",
              "      width: 32px;\n",
              "    }\n",
              "\n",
              "    .colab-df-convert:hover {\n",
              "      background-color: #E2EBFA;\n",
              "      box-shadow: 0px 1px 2px rgba(60, 64, 67, 0.3), 0px 1px 3px 1px rgba(60, 64, 67, 0.15);\n",
              "      fill: #174EA6;\n",
              "    }\n",
              "\n",
              "    [theme=dark] .colab-df-convert {\n",
              "      background-color: #3B4455;\n",
              "      fill: #D2E3FC;\n",
              "    }\n",
              "\n",
              "    [theme=dark] .colab-df-convert:hover {\n",
              "      background-color: #434B5C;\n",
              "      box-shadow: 0px 1px 3px 1px rgba(0, 0, 0, 0.15);\n",
              "      filter: drop-shadow(0px 1px 2px rgba(0, 0, 0, 0.3));\n",
              "      fill: #FFFFFF;\n",
              "    }\n",
              "  </style>\n",
              "\n",
              "      <script>\n",
              "        const buttonEl =\n",
              "          document.querySelector('#df-a9161799-a805-436b-a747-ad7a60137740 button.colab-df-convert');\n",
              "        buttonEl.style.display =\n",
              "          google.colab.kernel.accessAllowed ? 'block' : 'none';\n",
              "\n",
              "        async function convertToInteractive(key) {\n",
              "          const element = document.querySelector('#df-a9161799-a805-436b-a747-ad7a60137740');\n",
              "          const dataTable =\n",
              "            await google.colab.kernel.invokeFunction('convertToInteractive',\n",
              "                                                     [key], {});\n",
              "          if (!dataTable) return;\n",
              "\n",
              "          const docLinkHtml = 'Like what you see? Visit the ' +\n",
              "            '<a target=\"_blank\" href=https://colab.research.google.com/notebooks/data_table.ipynb>data table notebook</a>'\n",
              "            + ' to learn more about interactive tables.';\n",
              "          element.innerHTML = '';\n",
              "          dataTable['output_type'] = 'display_data';\n",
              "          await google.colab.output.renderOutput(dataTable, element);\n",
              "          const docLink = document.createElement('div');\n",
              "          docLink.innerHTML = docLinkHtml;\n",
              "          element.appendChild(docLink);\n",
              "        }\n",
              "      </script>\n",
              "    </div>\n",
              "  </div>\n",
              "  "
            ]
          },
          "metadata": {},
          "execution_count": 20
        }
      ],
      "source": [
        "#urllib.request.urlretrieve(\"https://raw.githubusercontent.com/songys/Chatbot_data/master/ChatbotData.csv\", filename=\"ChatBotData.csv\")\n",
        "file_name='/content/drive/MyDrive/Colab Notebooks/refund_a.csv'\n",
        "train_data_a = pd.read_csv(file_name)\n",
        "train_data_a.head()"
      ]
    },
    {
      "cell_type": "code",
      "source": [
        "file_name='/content/drive/MyDrive/Colab Notebooks/refund_q.csv'\n",
        "train_data = pd.read_csv(file_name)\n",
        "train_data.head()"
      ],
      "metadata": {
        "id": "vbvyGTODa_ar",
        "colab": {
          "base_uri": "https://localhost:8080/",
          "height": 206
        },
        "outputId": "5dd40dc4-b0b5-4b33-e3f1-99b878352699"
      },
      "id": "vbvyGTODa_ar",
      "execution_count": null,
      "outputs": [
        {
          "output_type": "execute_result",
          "data": {
            "text/plain": [
              "                                       q\n",
              "0          만나서 반갑습니다 #@소속# #@이름# 상담사 입니다\n",
              "1  안녕하세요 제가 강원도 순천에 #@소속# 으로 골프여행을 가려 해요\n",
              "2                    그러시군요 제가 무엇을 도와드릴까요\n",
              "3                      비가 올 수도 있다고 써있어서요\n",
              "4                          혹시 환불차 문의하셨나요"
            ],
            "text/html": [
              "\n",
              "  <div id=\"df-10616d51-6def-4972-b7f4-65eaf903088e\">\n",
              "    <div class=\"colab-df-container\">\n",
              "      <div>\n",
              "<style scoped>\n",
              "    .dataframe tbody tr th:only-of-type {\n",
              "        vertical-align: middle;\n",
              "    }\n",
              "\n",
              "    .dataframe tbody tr th {\n",
              "        vertical-align: top;\n",
              "    }\n",
              "\n",
              "    .dataframe thead th {\n",
              "        text-align: right;\n",
              "    }\n",
              "</style>\n",
              "<table border=\"1\" class=\"dataframe\">\n",
              "  <thead>\n",
              "    <tr style=\"text-align: right;\">\n",
              "      <th></th>\n",
              "      <th>q</th>\n",
              "    </tr>\n",
              "  </thead>\n",
              "  <tbody>\n",
              "    <tr>\n",
              "      <th>0</th>\n",
              "      <td>만나서 반갑습니다 #@소속# #@이름# 상담사 입니다</td>\n",
              "    </tr>\n",
              "    <tr>\n",
              "      <th>1</th>\n",
              "      <td>안녕하세요 제가 강원도 순천에 #@소속# 으로 골프여행을 가려 해요</td>\n",
              "    </tr>\n",
              "    <tr>\n",
              "      <th>2</th>\n",
              "      <td>그러시군요 제가 무엇을 도와드릴까요</td>\n",
              "    </tr>\n",
              "    <tr>\n",
              "      <th>3</th>\n",
              "      <td>비가 올 수도 있다고 써있어서요</td>\n",
              "    </tr>\n",
              "    <tr>\n",
              "      <th>4</th>\n",
              "      <td>혹시 환불차 문의하셨나요</td>\n",
              "    </tr>\n",
              "  </tbody>\n",
              "</table>\n",
              "</div>\n",
              "      <button class=\"colab-df-convert\" onclick=\"convertToInteractive('df-10616d51-6def-4972-b7f4-65eaf903088e')\"\n",
              "              title=\"Convert this dataframe to an interactive table.\"\n",
              "              style=\"display:none;\">\n",
              "        \n",
              "  <svg xmlns=\"http://www.w3.org/2000/svg\" height=\"24px\"viewBox=\"0 0 24 24\"\n",
              "       width=\"24px\">\n",
              "    <path d=\"M0 0h24v24H0V0z\" fill=\"none\"/>\n",
              "    <path d=\"M18.56 5.44l.94 2.06.94-2.06 2.06-.94-2.06-.94-.94-2.06-.94 2.06-2.06.94zm-11 1L8.5 8.5l.94-2.06 2.06-.94-2.06-.94L8.5 2.5l-.94 2.06-2.06.94zm10 10l.94 2.06.94-2.06 2.06-.94-2.06-.94-.94-2.06-.94 2.06-2.06.94z\"/><path d=\"M17.41 7.96l-1.37-1.37c-.4-.4-.92-.59-1.43-.59-.52 0-1.04.2-1.43.59L10.3 9.45l-7.72 7.72c-.78.78-.78 2.05 0 2.83L4 21.41c.39.39.9.59 1.41.59.51 0 1.02-.2 1.41-.59l7.78-7.78 2.81-2.81c.8-.78.8-2.07 0-2.86zM5.41 20L4 18.59l7.72-7.72 1.47 1.35L5.41 20z\"/>\n",
              "  </svg>\n",
              "      </button>\n",
              "      \n",
              "  <style>\n",
              "    .colab-df-container {\n",
              "      display:flex;\n",
              "      flex-wrap:wrap;\n",
              "      gap: 12px;\n",
              "    }\n",
              "\n",
              "    .colab-df-convert {\n",
              "      background-color: #E8F0FE;\n",
              "      border: none;\n",
              "      border-radius: 50%;\n",
              "      cursor: pointer;\n",
              "      display: none;\n",
              "      fill: #1967D2;\n",
              "      height: 32px;\n",
              "      padding: 0 0 0 0;\n",
              "      width: 32px;\n",
              "    }\n",
              "\n",
              "    .colab-df-convert:hover {\n",
              "      background-color: #E2EBFA;\n",
              "      box-shadow: 0px 1px 2px rgba(60, 64, 67, 0.3), 0px 1px 3px 1px rgba(60, 64, 67, 0.15);\n",
              "      fill: #174EA6;\n",
              "    }\n",
              "\n",
              "    [theme=dark] .colab-df-convert {\n",
              "      background-color: #3B4455;\n",
              "      fill: #D2E3FC;\n",
              "    }\n",
              "\n",
              "    [theme=dark] .colab-df-convert:hover {\n",
              "      background-color: #434B5C;\n",
              "      box-shadow: 0px 1px 3px 1px rgba(0, 0, 0, 0.15);\n",
              "      filter: drop-shadow(0px 1px 2px rgba(0, 0, 0, 0.3));\n",
              "      fill: #FFFFFF;\n",
              "    }\n",
              "  </style>\n",
              "\n",
              "      <script>\n",
              "        const buttonEl =\n",
              "          document.querySelector('#df-10616d51-6def-4972-b7f4-65eaf903088e button.colab-df-convert');\n",
              "        buttonEl.style.display =\n",
              "          google.colab.kernel.accessAllowed ? 'block' : 'none';\n",
              "\n",
              "        async function convertToInteractive(key) {\n",
              "          const element = document.querySelector('#df-10616d51-6def-4972-b7f4-65eaf903088e');\n",
              "          const dataTable =\n",
              "            await google.colab.kernel.invokeFunction('convertToInteractive',\n",
              "                                                     [key], {});\n",
              "          if (!dataTable) return;\n",
              "\n",
              "          const docLinkHtml = 'Like what you see? Visit the ' +\n",
              "            '<a target=\"_blank\" href=https://colab.research.google.com/notebooks/data_table.ipynb>data table notebook</a>'\n",
              "            + ' to learn more about interactive tables.';\n",
              "          element.innerHTML = '';\n",
              "          dataTable['output_type'] = 'display_data';\n",
              "          await google.colab.output.renderOutput(dataTable, element);\n",
              "          const docLink = document.createElement('div');\n",
              "          docLink.innerHTML = docLinkHtml;\n",
              "          element.appendChild(docLink);\n",
              "        }\n",
              "      </script>\n",
              "    </div>\n",
              "  </div>\n",
              "  "
            ]
          },
          "metadata": {},
          "execution_count": 21
        }
      ]
    },
    {
      "cell_type": "code",
      "execution_count": null,
      "id": "4f81fc6b",
      "metadata": {
        "id": "4f81fc6b",
        "colab": {
          "base_uri": "https://localhost:8080/"
        },
        "outputId": "ce1bf78c-2b6f-4d67-f39b-5073886ba137"
      },
      "outputs": [
        {
          "output_type": "stream",
          "name": "stdout",
          "text": [
            "챗봇 샘플의 개수 : 17576\n"
          ]
        }
      ],
      "source": [
        "print('챗봇 샘플의 개수 :', len(train_data))"
      ]
    },
    {
      "cell_type": "code",
      "execution_count": null,
      "id": "6a35d8d9",
      "metadata": {
        "id": "6a35d8d9",
        "colab": {
          "base_uri": "https://localhost:8080/"
        },
        "outputId": "3d891074-f032-408b-8e30-d5573684499c"
      },
      "outputs": [
        {
          "output_type": "stream",
          "name": "stdout",
          "text": [
            "q    0\n",
            "dtype: int64\n"
          ]
        }
      ],
      "source": [
        "print(train_data.isnull().sum())"
      ]
    },
    {
      "cell_type": "code",
      "source": [
        "train_data.fillna('', inplace=True)\n",
        "train_data_a.fillna('', inplace=True)"
      ],
      "metadata": {
        "id": "28dBjeMObWTB"
      },
      "id": "28dBjeMObWTB",
      "execution_count": null,
      "outputs": []
    },
    {
      "cell_type": "code",
      "source": [
        "print(train_data.isnull().sum())\n",
        "print(train_data_a.isnull().sum())"
      ],
      "metadata": {
        "colab": {
          "base_uri": "https://localhost:8080/"
        },
        "id": "NE8OrRdIRW2l",
        "outputId": "e2a53acf-acdc-4647-efd1-bf5be59c4169"
      },
      "id": "NE8OrRdIRW2l",
      "execution_count": null,
      "outputs": [
        {
          "output_type": "stream",
          "name": "stdout",
          "text": [
            "q    0\n",
            "dtype: int64\n",
            "a    0\n",
            "dtype: int64\n"
          ]
        }
      ]
    },
    {
      "cell_type": "code",
      "source": [
        "############################kobert를 사용을 위해서 트랜스포머를 install하였고 실제적인 test는 제작한 transformer를 이용\n",
        "!pip install transformers"
      ],
      "metadata": {
        "colab": {
          "base_uri": "https://localhost:8080/"
        },
        "id": "uQbBKlGzIOG-",
        "outputId": "5529cafb-b270-45ac-a856-729b96d9d04b"
      },
      "id": "uQbBKlGzIOG-",
      "execution_count": null,
      "outputs": [
        {
          "output_type": "stream",
          "name": "stdout",
          "text": [
            "Looking in indexes: https://pypi.org/simple, https://us-python.pkg.dev/colab-wheels/public/simple/\n",
            "Collecting transformers\n",
            "  Downloading transformers-4.25.1-py3-none-any.whl (5.8 MB)\n",
            "\u001b[K     |████████████████████████████████| 5.8 MB 26.4 MB/s \n",
            "\u001b[?25hRequirement already satisfied: regex!=2019.12.17 in /usr/local/lib/python3.8/dist-packages (from transformers) (2022.6.2)\n",
            "Collecting tokenizers!=0.11.3,<0.14,>=0.11.1\n",
            "  Downloading tokenizers-0.13.2-cp38-cp38-manylinux_2_17_x86_64.manylinux2014_x86_64.whl (7.6 MB)\n",
            "\u001b[K     |████████████████████████████████| 7.6 MB 59.8 MB/s \n",
            "\u001b[?25hRequirement already satisfied: requests in /usr/local/lib/python3.8/dist-packages (from transformers) (2.23.0)\n",
            "Requirement already satisfied: tqdm>=4.27 in /usr/local/lib/python3.8/dist-packages (from transformers) (4.64.1)\n",
            "Collecting huggingface-hub<1.0,>=0.10.0\n",
            "  Downloading huggingface_hub-0.11.1-py3-none-any.whl (182 kB)\n",
            "\u001b[K     |████████████████████████████████| 182 kB 64.4 MB/s \n",
            "\u001b[?25hRequirement already satisfied: pyyaml>=5.1 in /usr/local/lib/python3.8/dist-packages (from transformers) (6.0)\n",
            "Requirement already satisfied: filelock in /usr/local/lib/python3.8/dist-packages (from transformers) (3.8.0)\n",
            "Requirement already satisfied: numpy>=1.17 in /usr/local/lib/python3.8/dist-packages (from transformers) (1.21.6)\n",
            "Requirement already satisfied: packaging>=20.0 in /usr/local/lib/python3.8/dist-packages (from transformers) (21.3)\n",
            "Requirement already satisfied: typing-extensions>=3.7.4.3 in /usr/local/lib/python3.8/dist-packages (from huggingface-hub<1.0,>=0.10.0->transformers) (4.4.0)\n",
            "Requirement already satisfied: pyparsing!=3.0.5,>=2.0.2 in /usr/local/lib/python3.8/dist-packages (from packaging>=20.0->transformers) (3.0.9)\n",
            "Requirement already satisfied: urllib3!=1.25.0,!=1.25.1,<1.26,>=1.21.1 in /usr/local/lib/python3.8/dist-packages (from requests->transformers) (1.24.3)\n",
            "Requirement already satisfied: idna<3,>=2.5 in /usr/local/lib/python3.8/dist-packages (from requests->transformers) (2.10)\n",
            "Requirement already satisfied: certifi>=2017.4.17 in /usr/local/lib/python3.8/dist-packages (from requests->transformers) (2022.9.24)\n",
            "Requirement already satisfied: chardet<4,>=3.0.2 in /usr/local/lib/python3.8/dist-packages (from requests->transformers) (3.0.4)\n",
            "Installing collected packages: tokenizers, huggingface-hub, transformers\n",
            "Successfully installed huggingface-hub-0.11.1 tokenizers-0.13.2 transformers-4.25.1\n"
          ]
        }
      ]
    },
    {
      "cell_type": "code",
      "source": [
        "import tensorflow as tf\n",
        "import torch\n",
        "\n",
        "from transformers import BertTokenizer\n",
        "from transformers import BertForSequenceClassification, AdamW, BertConfig\n",
        "from transformers import get_linear_schedule_with_warmup\n",
        "from torch.utils.data import TensorDataset, DataLoader, RandomSampler, SequentialSampler\n",
        "from keras.utils import pad_sequences\n",
        "\n",
        "from sklearn.model_selection import train_test_split\n",
        "\n",
        "import pandas as pd\n",
        "import numpy as np\n",
        "import random\n",
        "import time\n",
        "import datetime\n",
        "#https://huggingface.co/transformers/model_doc/bert.html#bertforsequenceclassification"
      ],
      "metadata": {
        "id": "4lOiWJ0EIWla"
      },
      "id": "4lOiWJ0EIWla",
      "execution_count": null,
      "outputs": []
    },
    {
      "cell_type": "code",
      "source": [],
      "metadata": {
        "id": "GoQO_GkjFb2d"
      },
      "id": "GoQO_GkjFb2d",
      "execution_count": null,
      "outputs": []
    },
    {
      "cell_type": "code",
      "source": [
        "\n",
        "questions = []\n",
        "for sentence in train_data['q']:\n",
        "    # 구두점에 대해서 띄어쓰기\n",
        "    \n",
        "    sentence = re.sub(r\"[^\\uAC00-\\uD7A30-9a-zA-Z\\s]\", \" \", sentence)\n",
        "    sentence=re.sub('동국','소속',sentence)\n",
        "    sentence=re.sub('정통','이름',sentence)\n",
        "    sentence = sentence.strip()\n",
        "    sentence ='[CLS] '+sentence+' [SEP]'\n",
        "    questions.append(sentence)\n",
        "\n",
        "\n",
        "questions[:10]"
      ],
      "metadata": {
        "colab": {
          "base_uri": "https://localhost:8080/"
        },
        "id": "efCuhbegGJxf",
        "outputId": "8f7b0183-5a42-4de0-d8fc-83aa1a8385d6"
      },
      "id": "efCuhbegGJxf",
      "execution_count": null,
      "outputs": [
        {
          "output_type": "execute_result",
          "data": {
            "text/plain": [
              "['[CLS] 만나서 반갑습니다   소속    이름  상담사 입니다 [SEP]',\n",
              " '[CLS] 안녕하세요 제가 강원도 순천에   소속  으로 골프여행을 가려 해요 [SEP]',\n",
              " '[CLS] 그러시군요 제가 무엇을 도와드릴까요 [SEP]',\n",
              " '[CLS] 비가 올 수도 있다고 써있어서요 [SEP]',\n",
              " '[CLS] 혹시 환불차 문의하셨나요 [SEP]',\n",
              " '[CLS] 아니오 그건 아니고 거기 가서도 환불이 되나요 [SEP]',\n",
              " '[CLS] 골프장측에서 악천후고지를 하면 전액환불이 가능합니다 [SEP]',\n",
              " '[CLS] 그 말은 가 봐야 안 다는 거네요 [SEP]',\n",
              " '[CLS] 라운드 중에 중지될 경우엔 규정에 따라 환불이 가능합니다 [SEP]',\n",
              " '[CLS] 애매하네요 더 생각해보고 전화 드릴게요 [SEP]']"
            ]
          },
          "metadata": {},
          "execution_count": 28
        }
      ]
    },
    {
      "cell_type": "code",
      "source": [
        "answers = []\n",
        "for sentence in train_data_a['a']:\n",
        "    # 구두점에 대해서 띄어쓰기\n",
        "    # ex) 12시 땡! -> 12시 땡 !\n",
        "    sentence = re.sub(r\"[^\\uAC00-\\uD7A30-9a-zA-Z\\s]\", r\" \", sentence)\n",
        "    sentence=re.sub('동국','소속',sentence)\n",
        "    sentence=re.sub('정통','이름',sentence)\n",
        "    sentence ='[CLS] '+sentence+' [SEP]' #버트의 인풋에 맞게 변형\n",
        "    sentence = sentence.strip()\n",
        "\n",
        "    answers.append(sentence)\n",
        "\n",
        "answers[:10]"
      ],
      "metadata": {
        "colab": {
          "base_uri": "https://localhost:8080/"
        },
        "id": "IfNX05eVW1VQ",
        "outputId": "87d3c479-0a53-463a-c261-9cd058ca17fb"
      },
      "id": "IfNX05eVW1VQ",
      "execution_count": null,
      "outputs": [
        {
          "output_type": "execute_result",
          "data": {
            "text/plain": [
              "['[CLS] 안녕하세요 제가 강원도 순천에   소속  으로 골프여행을 가려 해요 [SEP]',\n",
              " '[CLS] 그러시군요 제가 무엇을 도와드릴까요 [SEP]',\n",
              " '[CLS] 비가 올 수도 있다고 써있어서요 [SEP]',\n",
              " '[CLS] 혹시 환불차 문의하셨나요 [SEP]',\n",
              " '[CLS] 아니오 그건 아니고 거기 가서도 환불이 되나요 [SEP]',\n",
              " '[CLS] 골프장측에서 악천후고지를 하면 전액환불이 가능합니다 [SEP]',\n",
              " '[CLS] 그 말은 가 봐야 안 다는 거네요 [SEP]',\n",
              " '[CLS] 라운드 중에 중지될 경우엔 규정에 따라 환불이 가능합니다 [SEP]',\n",
              " '[CLS] 애매하네요 더 생각해보고 전화 드릴게요 [SEP]',\n",
              " '[CLS] 네 알겠습니다 오늘도 행복한 하루 되세요 [SEP]']"
            ]
          },
          "metadata": {},
          "execution_count": 29
        }
      ]
    },
    {
      "cell_type": "code",
      "source": [
        "# BERT의 토크나이저로 문장을 토큰으로 분리\n",
        "tokenizer = BertTokenizer.from_pretrained('bert-base-multilingual-cased', do_lower_case=False) \n",
        "tokenized_questions = [tokenizer.tokenize (sent) for sent in questions]\n",
        "tokenized_answers = [tokenizer.tokenize (sent) for sent in answers]\n"
      ],
      "metadata": {
        "id": "Rck2y5r5W22Y",
        "colab": {
          "base_uri": "https://localhost:8080/",
          "height": 113,
          "referenced_widgets": [
            "4dbab558ebea41808e3c24cfffb4aab7",
            "7635f6900e054b8681ece69432cdd560",
            "f1274b0bd0e74901a757d3f11659cb2b",
            "e3e1f4a8371343e6b0d69262a43976bf",
            "bd5955765e194e2398085b49c330404b",
            "f9c2708cf129490d9578103d0cf00909",
            "8d8f87cb6cfe446093adfd0a20068d59",
            "f2b70407d31d43ee98b0a51113256c2a",
            "6627e1141e3749e993baa4176874831a",
            "44cad28138b443d2862e239adeb1853f",
            "7f6b30e61a5b47e4a60863a5f1034b6e",
            "90f4ccfcc2f64aa782490b028b8ebf0b",
            "e70d91dcf8994023bdd852e0a6aed130",
            "b12abebedc164859bb51242495d8b222",
            "9ddce73145ca4525a6035cc5ba08697a",
            "9b2cd389f1b840a5989f5ab26408e7c0",
            "bf3b4b18763244d1a319aa02827c81b4",
            "4ebc30f3faaf4804bb788ebb525f6d90",
            "ea14f2d572204443a548c73df44febc5",
            "3d052491d16f4c1397a714da1594ea03",
            "2f57de6289cf44008172802e1b6d33ff",
            "0ab354fa8e554702a9a5a8ae57359085",
            "97a35bb457784f41a04d2b2f52a375a7",
            "cadf31541ed84f34876500dcb6e43564",
            "9f965a549cca426d849fb6a212c273a0",
            "771ca66b74134bc8b9b076eeea1ba706",
            "419ab09ec85346b29f30111f4add38d7",
            "e4e610ec12b640508344abd008d4a978",
            "5df8b56bb9cc42d98eb294edbbc7d53f",
            "b2aee971a82f4288b3d228b4f7fc6069",
            "0671362b4ed14e238957a6062cea3537",
            "a6713ec866554a26bdd9203f63cc8bc7",
            "ae5b0acd8a7147d58ba1aa7988cd2646"
          ]
        },
        "outputId": "b0ff3f38-4896-4668-e3e0-105ffe4d3aaf"
      },
      "id": "Rck2y5r5W22Y",
      "execution_count": null,
      "outputs": [
        {
          "output_type": "display_data",
          "data": {
            "text/plain": [
              "Downloading:   0%|          | 0.00/996k [00:00<?, ?B/s]"
            ],
            "application/vnd.jupyter.widget-view+json": {
              "version_major": 2,
              "version_minor": 0,
              "model_id": "4dbab558ebea41808e3c24cfffb4aab7"
            }
          },
          "metadata": {}
        },
        {
          "output_type": "display_data",
          "data": {
            "text/plain": [
              "Downloading:   0%|          | 0.00/29.0 [00:00<?, ?B/s]"
            ],
            "application/vnd.jupyter.widget-view+json": {
              "version_major": 2,
              "version_minor": 0,
              "model_id": "90f4ccfcc2f64aa782490b028b8ebf0b"
            }
          },
          "metadata": {}
        },
        {
          "output_type": "display_data",
          "data": {
            "text/plain": [
              "Downloading:   0%|          | 0.00/625 [00:00<?, ?B/s]"
            ],
            "application/vnd.jupyter.widget-view+json": {
              "version_major": 2,
              "version_minor": 0,
              "model_id": "97a35bb457784f41a04d2b2f52a375a7"
            }
          },
          "metadata": {}
        }
      ]
    },
    {
      "cell_type": "code",
      "source": [
        "print (questions[3])\n",
        "print (tokenized_questions[3])\n",
        "print (answers[3])\n",
        "print (tokenized_answers[3])"
      ],
      "metadata": {
        "colab": {
          "base_uri": "https://localhost:8080/"
        },
        "id": "5P7gR7XYMWfD",
        "outputId": "3eb51d5e-dd0c-40d1-a5ac-d0246158ab15"
      },
      "id": "5P7gR7XYMWfD",
      "execution_count": null,
      "outputs": [
        {
          "output_type": "stream",
          "name": "stdout",
          "text": [
            "[CLS] 비가 올 수도 있다고 써있어서요 [SEP]\n",
            "['[CLS]', '비', '##가', '올', '수도', '있다고', '써', '##있', '##어', '##서', '##요', '[SEP]']\n",
            "[CLS] 혹시 환불차 문의하셨나요 [SEP]\n",
            "['[CLS]', '혹', '##시', '환', '##불', '##차', '문', '##의', '##하', '##셨', '##나', '##요', '[SEP]']\n"
          ]
        }
      ]
    },
    {
      "cell_type": "code",
      "source": [
        "listtt=[]\n",
        "# 입력 토큰의 최대 시퀀스 길이\n",
        "MAX_LEN=40\n",
        "#토큰을 숫자 인덱스로 변환\n",
        "input_ids =[tokenizer.convert_tokens_to_ids(x) for x in tokenized_questions]\n",
        "\n",
        "\n",
        "#문장을 MAX_LEN 길이에 맞게 자르고, 모자란 부분을 패딩 0으로 채움\n",
        "input_ids =pad_sequences (input_ids, maxlen=MAX_LEN, dtype=\"long\", truncating=\"post\", padding=\"post\" )\n",
        "input_ids[1]\n",
        "\n"
      ],
      "metadata": {
        "colab": {
          "base_uri": "https://localhost:8080/"
        },
        "id": "NwNayUWJM3Jm",
        "outputId": "f25a759b-913f-48c5-cf21-9735d046046b"
      },
      "id": "NwNayUWJM3Jm",
      "execution_count": null,
      "outputs": [
        {
          "output_type": "execute_result",
          "data": {
            "text/plain": [
              "array([   101,   9521, 118741,  35506,  24982,  48549,   9672,  11287,\n",
              "         8853,  14279,  12092,   9462,  38631,  10530,  96770,  29805,\n",
              "         8892,  28396,  29935,  88904,   8843,  26737,   9960,  48549,\n",
              "          102,      0,      0,      0,      0,      0,      0,      0,\n",
              "            0,      0,      0,      0,      0,      0,      0,      0])"
            ]
          },
          "metadata": {},
          "execution_count": 32
        }
      ]
    },
    {
      "cell_type": "code",
      "source": [
        "\n",
        "# 입력 토큰의 최대 시퀀스 길이\n",
        "MAX_LEN=40\n",
        "#토큰을 숫자 인덱스로 변환\n",
        "output_ids =[tokenizer.convert_tokens_to_ids(y) for y in tokenized_answers]\n",
        "\n",
        "\n",
        "#문장을 MAX_LEN 길이에 맞게 자르고, 모자란 부분을 패딩 0으로 채움\n",
        "output_ids =pad_sequences (output_ids, maxlen=MAX_LEN, dtype=\"long\", truncating=\"post\", padding=\"post\" )\n",
        "output_ids[1]\n"
      ],
      "metadata": {
        "colab": {
          "base_uri": "https://localhost:8080/"
        },
        "id": "0R13jxKAQ1cY",
        "outputId": "9b69d060-55a9-43ad-d27d-478e8abae797"
      },
      "id": "0R13jxKAQ1cY",
      "execution_count": null,
      "outputs": [
        {
          "output_type": "execute_result",
          "data": {
            "text/plain": [
              "array([   101,   8924,  30873,  14040,  17360,  48549,   9672,  11287,\n",
              "         9294, 119137,  10622,   9087,  12638,  15001,  85836, 118671,\n",
              "        48549,    102,      0,      0,      0,      0,      0,      0,\n",
              "            0,      0,      0,      0,      0,      0,      0,      0,\n",
              "            0,      0,      0,      0,      0,      0,      0,      0])"
            ]
          },
          "metadata": {},
          "execution_count": 33
        }
      ]
    },
    {
      "cell_type": "code",
      "execution_count": null,
      "id": "3ca7e27e",
      "metadata": {
        "id": "3ca7e27e",
        "colab": {
          "base_uri": "https://localhost:8080/"
        },
        "outputId": "1a91d88a-974e-4782-e3b9-074895f84ccf"
      },
      "outputs": [
        {
          "output_type": "execute_result",
          "data": {
            "text/plain": [
              "17576"
            ]
          },
          "metadata": {},
          "execution_count": 34
        }
      ],
      "source": [
        "len(questions)"
      ]
    },
    {
      "cell_type": "code",
      "source": [
        "\n",
        "# 시작 토큰과 종료 토큰에 대한 정수 부여.\n",
        "START_TOKEN, END_TOKEN = [101], [102]\n",
        "\n",
        "# 시작 토큰과 종료 토큰을 고려하여 단어 집합의 크기를 + 2\n",
        "VOCAB_SIZE = tokenizer.vocab_size "
      ],
      "metadata": {
        "id": "c3QAQjgtRclY"
      },
      "id": "c3QAQjgtRclY",
      "execution_count": null,
      "outputs": []
    },
    {
      "cell_type": "code",
      "execution_count": null,
      "id": "c46583f8",
      "metadata": {
        "id": "c46583f8",
        "colab": {
          "base_uri": "https://localhost:8080/"
        },
        "outputId": "277435a0-f3f2-408b-ef5d-08b970472efb"
      },
      "outputs": [
        {
          "output_type": "stream",
          "name": "stdout",
          "text": [
            "시작 토큰 sos 번호  : [101]\n",
            "종료 토큰 eos 번호 : [102]\n",
            "단어 집합의 크기 : 119547\n"
          ]
        }
      ],
      "source": [
        "print('시작 토큰 sos 번호  :',START_TOKEN)\n",
        "print('종료 토큰 eos 번호 :',END_TOKEN)\n",
        "print('단어 집합의 크기 :',VOCAB_SIZE) ######bert는 서브워드로 한 것의 10배 토큰"
      ]
    },
    {
      "cell_type": "code",
      "source": [
        "######################토근화 한것으로 #############################\n",
        "print('질문 데이터의 크기(shape) :', input_ids.shape)\n",
        "print('답변 데이터의 크기(shape) :', output_ids.shape)"
      ],
      "metadata": {
        "colab": {
          "base_uri": "https://localhost:8080/"
        },
        "id": "49JeoW68PClq",
        "outputId": "a06f8e11-5687-4caa-c2d5-a6d1a2d30e45"
      },
      "id": "49JeoW68PClq",
      "execution_count": null,
      "outputs": [
        {
          "output_type": "stream",
          "name": "stdout",
          "text": [
            "질문 데이터의 크기(shape) : (17576, 40)\n",
            "답변 데이터의 크기(shape) : (17576, 40)\n"
          ]
        }
      ]
    },
    {
      "cell_type": "code",
      "execution_count": null,
      "id": "c3d3df18",
      "metadata": {
        "id": "c3d3df18",
        "colab": {
          "base_uri": "https://localhost:8080/"
        },
        "outputId": "cb588f72-95c8-4a07-c0f0-348efd1a4b98"
      },
      "outputs": [
        {
          "output_type": "stream",
          "name": "stdout",
          "text": [
            "['[CLS]', '만', '##나', '##서', '반', '##갑', '##습', '##니다', '소속', '이', '##름', '상', '##담', '##사', '입', '##니다', '[SEP]']\n",
            "['[CLS]', '그', '##러', '##시', '##군', '##요', '제', '##가', '무', '##엇', '##을', '도', '##와', '##드', '##릴', '##까', '##요', '[SEP]']\n"
          ]
        }
      ],
      "source": [
        "# 0번째 샘플을 임의로 출력\n",
        "print(tokenized_questions[0])\n",
        "print(tokenized_answers[1])"
      ]
    },
    {
      "cell_type": "code",
      "execution_count": null,
      "id": "c7f1a803",
      "metadata": {
        "id": "c7f1a803",
        "colab": {
          "base_uri": "https://localhost:8080/"
        },
        "outputId": "a9da3012-5152-4c71-ba84-fa5752abbf5c"
      },
      "outputs": [
        {
          "output_type": "stream",
          "name": "stdout",
          "text": [
            "단어 집합의 크기(Vocab size): 119547\n",
            "전체 샘플의 수(Number of samples): 17576\n"
          ]
        }
      ],
      "source": [
        "print('단어 집합의 크기(Vocab size): {}'.format(VOCAB_SIZE))\n",
        "print('전체 샘플의 수(Number of samples): {}'.format(len(tokenized_questions)))"
      ]
    },
    {
      "cell_type": "code",
      "source": [
        "#########################################################################토큰화#############\n",
        "# 텐서플로우 dataset을 이용하여 셔플(shuffle)을 수행하되, 배치 크기로 데이터를 묶는다.\n",
        "####셔플하는 이유는 token의 번호 순서대로 나열 되있는데 이를 섞기 위해서\n",
        "# 또한 이 과정에서 교사 강요(teacher forcing)을 사용하기 위해서 디코더의 입력과 실제값 시퀀스를 구성한다.\n",
        "BATCH_SIZE = 64\n",
        "BUFFER_SIZE = 20000\n",
        "\n",
        "# 디코더의 실제값 시퀀스에서는 시작 토큰을 제거해야 한다.\n",
        "dataset = tf.data.Dataset.from_tensor_slices((\n",
        "    {\n",
        "        'inputs': input_ids,\n",
        "        'dec_inputs': output_ids[:, :-1] # 디코더의 입력. 마지막 패딩 토큰이 제거된다.\n",
        "    },\n",
        "    {\n",
        "        'outputs':output_ids[:, 1:]  # 맨 처음 토큰이 제거된다. 다시 말해 시작 토큰이 제거된다.\n",
        "    },\n",
        "))\n",
        "\n",
        "dataset = dataset.cache()\n",
        "dataset = dataset.shuffle(BUFFER_SIZE)\n",
        "dataset = dataset.batch(BATCH_SIZE)\n",
        "dataset = dataset.prefetch(tf.data.experimental.AUTOTUNE)"
      ],
      "metadata": {
        "id": "mFlyQIjwPj6G"
      },
      "id": "mFlyQIjwPj6G",
      "execution_count": null,
      "outputs": []
    },
    {
      "cell_type": "code",
      "execution_count": null,
      "id": "5b010883",
      "metadata": {
        "id": "5b010883",
        "colab": {
          "base_uri": "https://localhost:8080/"
        },
        "outputId": "5d637dee-8f1a-4a5d-f19a-713ab63c7b84"
      },
      "outputs": [
        {
          "output_type": "stream",
          "name": "stdout",
          "text": [
            "[   101   9521 118741  35506  24982  48549   9672  11287   8853  14279\n",
            "  12092   9462  38631  10530  96770  29805   8892  28396  29935  88904\n",
            "   8843  26737   9960  48549    102      0      0      0      0      0\n",
            "      0      0      0      0      0      0      0      0      0      0]\n",
            "[[   101   9521 118741  35506  24982  48549   9672  11287   8853  14279\n",
            "   12092   9462  38631  10530  96770  29805   8892  28396  29935  88904\n",
            "    8843  26737   9960  48549    102      0      0      0      0      0\n",
            "       0      0      0      0      0      0      0      0      0]]\n",
            "[[  9521 118741  35506  24982  48549   9672  11287   8853  14279  12092\n",
            "    9462  38631  10530  96770  29805   8892  28396  29935  88904   8843\n",
            "   26737   9960  48549    102      0      0      0      0      0      0\n",
            "       0      0      0      0      0      0      0      0      0]]\n"
          ]
        }
      ],
      "source": [
        "# 임의의 샘플에 대해서 [:, :-1]과 [:, 1:]이 어떤 의미를 가지는지 테스트해본다.\n",
        "print(output_ids[0]) # 기존 샘플\n",
        "print(output_ids[:1][:, :-1]) # 마지막 패딩 토큰 제거하면서 길이가 39가 된다.\n",
        "print(output_ids[:1][:, 1:]) # 맨 처음 토큰이 제거된다. 다시 말해 시작 토큰이 제거된다. 길이는 역시 39가 된다."
      ]
    },
    {
      "cell_type": "code",
      "execution_count": null,
      "id": "c76de8f0",
      "metadata": {
        "id": "c76de8f0",
        "colab": {
          "base_uri": "https://localhost:8080/"
        },
        "outputId": "6b1b3fd7-dd1f-436f-a484-6d509f929bdf"
      },
      "outputs": [
        {
          "output_type": "stream",
          "name": "stdout",
          "text": [
            "(1, 119547, 256)\n",
            "(1, 119547, 256)\n"
          ]
        }
      ],
      "source": [
        "tf.keras.backend.clear_session()\n",
        "\n",
        "# Hyper-parameters\n",
        "NUM_LAYERS = 2\n",
        "D_MODEL = 256\n",
        "NUM_HEADS = 8\n",
        "DFF = 512\n",
        "DROPOUT = 0.1\n",
        "\n",
        "model = transformer(\n",
        "    vocab_size=VOCAB_SIZE,\n",
        "    num_layers=NUM_LAYERS,\n",
        "    dff=DFF,\n",
        "    d_model=D_MODEL,\n",
        "    num_heads=NUM_HEADS,\n",
        "    dropout=DROPOUT)"
      ]
    },
    {
      "cell_type": "code",
      "execution_count": null,
      "id": "4087beac",
      "metadata": {
        "id": "4087beac"
      },
      "outputs": [],
      "source": [
        "MAX_LENGTH = 40\n",
        "\n",
        "learning_rate = CustomSchedule(D_MODEL)\n",
        "\n",
        "optimizer = tf.keras.optimizers.Adam(\n",
        "    learning_rate, beta_1=0.9, beta_2=0.98, epsilon=1e-9)\n",
        "\n",
        "def accuracy(y_true, y_pred):\n",
        "  # ensure labels have shape (batch_size, MAX_LENGTH - 1)\n",
        "  y_true = tf.reshape(y_true, shape=(-1, MAX_LENGTH - 1))\n",
        "  return tf.keras.metrics.sparse_categorical_accuracy(y_true, y_pred)\n",
        "\n",
        "model.compile(optimizer=optimizer, loss=loss_function, metrics=[accuracy])"
      ]
    },
    {
      "cell_type": "code",
      "source": [],
      "metadata": {
        "id": "phPjx_GoP3-B"
      },
      "id": "phPjx_GoP3-B",
      "execution_count": null,
      "outputs": []
    },
    {
      "cell_type": "code",
      "execution_count": null,
      "id": "fb47d86a",
      "metadata": {
        "id": "fb47d86a",
        "colab": {
          "base_uri": "https://localhost:8080/"
        },
        "outputId": "d4fea7fa-a72c-4f00-bbe0-55c22d766d63"
      },
      "outputs": [
        {
          "output_type": "stream",
          "name": "stdout",
          "text": [
            "Epoch 1/50\n",
            "275/275 [==============================] - 110s 357ms/step - loss: 4.1302 - accuracy: 0.0239\n",
            "Epoch 2/50\n",
            "275/275 [==============================] - 98s 357ms/step - loss: 2.3536 - accuracy: 0.0439\n",
            "Epoch 3/50\n",
            "275/275 [==============================] - 98s 358ms/step - loss: 1.5559 - accuracy: 0.1427\n",
            "Epoch 4/50\n",
            "275/275 [==============================] - 98s 357ms/step - loss: 1.1316 - accuracy: 0.1894\n",
            "Epoch 5/50\n",
            "275/275 [==============================] - 99s 358ms/step - loss: 0.9670 - accuracy: 0.2090\n",
            "Epoch 6/50\n",
            "275/275 [==============================] - 99s 358ms/step - loss: 0.8764 - accuracy: 0.2201\n",
            "Epoch 7/50\n",
            "275/275 [==============================] - 99s 359ms/step - loss: 0.8155 - accuracy: 0.2283\n",
            "Epoch 8/50\n",
            "275/275 [==============================] - 98s 358ms/step - loss: 0.7681 - accuracy: 0.2346\n",
            "Epoch 9/50\n",
            "275/275 [==============================] - 98s 357ms/step - loss: 0.7289 - accuracy: 0.2398\n",
            "Epoch 10/50\n",
            "275/275 [==============================] - 98s 357ms/step - loss: 0.6935 - accuracy: 0.2445\n",
            "Epoch 11/50\n",
            "275/275 [==============================] - 98s 357ms/step - loss: 0.6621 - accuracy: 0.2495\n",
            "Epoch 12/50\n",
            "275/275 [==============================] - 98s 357ms/step - loss: 0.6310 - accuracy: 0.2543\n",
            "Epoch 13/50\n",
            "275/275 [==============================] - 98s 357ms/step - loss: 0.6046 - accuracy: 0.2581\n",
            "Epoch 14/50\n",
            "275/275 [==============================] - 98s 357ms/step - loss: 0.5797 - accuracy: 0.2622\n",
            "Epoch 15/50\n",
            "275/275 [==============================] - 98s 356ms/step - loss: 0.5582 - accuracy: 0.2654\n",
            "Epoch 16/50\n",
            "275/275 [==============================] - 98s 358ms/step - loss: 0.5277 - accuracy: 0.2708\n",
            "Epoch 17/50\n",
            "275/275 [==============================] - 98s 356ms/step - loss: 0.4952 - accuracy: 0.2767\n",
            "Epoch 18/50\n",
            "275/275 [==============================] - 98s 357ms/step - loss: 0.4632 - accuracy: 0.2831\n",
            "Epoch 19/50\n",
            "275/275 [==============================] - 98s 357ms/step - loss: 0.4342 - accuracy: 0.2890\n",
            "Epoch 20/50\n",
            "275/275 [==============================] - 98s 357ms/step - loss: 0.4061 - accuracy: 0.2946\n",
            "Epoch 21/50\n",
            "275/275 [==============================] - 98s 357ms/step - loss: 0.3824 - accuracy: 0.2996\n",
            "Epoch 22/50\n",
            "275/275 [==============================] - 98s 357ms/step - loss: 0.3607 - accuracy: 0.3043\n",
            "Epoch 23/50\n",
            "275/275 [==============================] - 98s 358ms/step - loss: 0.3400 - accuracy: 0.3092\n",
            "Epoch 24/50\n",
            "275/275 [==============================] - 98s 357ms/step - loss: 0.3203 - accuracy: 0.3134\n",
            "Epoch 25/50\n",
            "275/275 [==============================] - 98s 356ms/step - loss: 0.3031 - accuracy: 0.3173\n",
            "Epoch 26/50\n",
            "275/275 [==============================] - 98s 358ms/step - loss: 0.2875 - accuracy: 0.3212\n",
            "Epoch 27/50\n",
            "275/275 [==============================] - 98s 356ms/step - loss: 0.2725 - accuracy: 0.3244\n",
            "Epoch 28/50\n",
            "275/275 [==============================] - 98s 356ms/step - loss: 0.2591 - accuracy: 0.3278\n",
            "Epoch 29/50\n",
            "275/275 [==============================] - 98s 357ms/step - loss: 0.2478 - accuracy: 0.3306\n",
            "Epoch 30/50\n",
            "275/275 [==============================] - 98s 357ms/step - loss: 0.2343 - accuracy: 0.3337\n",
            "Epoch 31/50\n",
            "275/275 [==============================] - 98s 358ms/step - loss: 0.2249 - accuracy: 0.3364\n",
            "Epoch 32/50\n",
            "275/275 [==============================] - 98s 357ms/step - loss: 0.2159 - accuracy: 0.3383\n",
            "Epoch 33/50\n",
            "275/275 [==============================] - 98s 357ms/step - loss: 0.2054 - accuracy: 0.3415\n",
            "Epoch 34/50\n",
            "275/275 [==============================] - 98s 357ms/step - loss: 0.1986 - accuracy: 0.3432\n",
            "Epoch 35/50\n",
            "275/275 [==============================] - 98s 357ms/step - loss: 0.1895 - accuracy: 0.3454\n",
            "Epoch 36/50\n",
            "275/275 [==============================] - 99s 358ms/step - loss: 0.1827 - accuracy: 0.3475\n",
            "Epoch 37/50\n",
            "275/275 [==============================] - 98s 357ms/step - loss: 0.1766 - accuracy: 0.3489\n",
            "Epoch 38/50\n",
            "275/275 [==============================] - 99s 358ms/step - loss: 0.1705 - accuracy: 0.3505\n",
            "Epoch 39/50\n",
            "275/275 [==============================] - 98s 357ms/step - loss: 0.1645 - accuracy: 0.3521\n",
            "Epoch 40/50\n",
            "275/275 [==============================] - 99s 358ms/step - loss: 0.1588 - accuracy: 0.3538\n",
            "Epoch 41/50\n",
            "275/275 [==============================] - 98s 357ms/step - loss: 0.1547 - accuracy: 0.3551\n",
            "Epoch 42/50\n",
            "275/275 [==============================] - 98s 357ms/step - loss: 0.1486 - accuracy: 0.3568\n",
            "Epoch 43/50\n",
            "275/275 [==============================] - 98s 358ms/step - loss: 0.1454 - accuracy: 0.3576\n",
            "Epoch 44/50\n",
            "275/275 [==============================] - 98s 357ms/step - loss: 0.1396 - accuracy: 0.3595\n",
            "Epoch 45/50\n",
            "275/275 [==============================] - 99s 361ms/step - loss: 0.1362 - accuracy: 0.3606\n",
            "Epoch 46/50\n",
            "275/275 [==============================] - 98s 357ms/step - loss: 0.1321 - accuracy: 0.3614\n",
            "Epoch 47/50\n",
            "275/275 [==============================] - 98s 358ms/step - loss: 0.1293 - accuracy: 0.3622\n",
            "Epoch 48/50\n",
            "275/275 [==============================] - 98s 357ms/step - loss: 0.1251 - accuracy: 0.3638\n",
            "Epoch 49/50\n",
            "275/275 [==============================] - 98s 357ms/step - loss: 0.1232 - accuracy: 0.3642\n",
            "Epoch 50/50\n",
            "275/275 [==============================] - 98s 357ms/step - loss: 0.1195 - accuracy: 0.3655\n"
          ]
        },
        {
          "output_type": "execute_result",
          "data": {
            "text/plain": [
              "<keras.callbacks.History at 0x7f7e80140af0>"
            ]
          },
          "metadata": {},
          "execution_count": 44
        }
      ],
      "source": [
        "EPOCHS = 50\n",
        "\n",
        "model.fit(dataset, epochs=EPOCHS)"
      ]
    },
    {
      "cell_type": "code",
      "execution_count": null,
      "id": "d93a5f58",
      "metadata": {
        "id": "d93a5f58"
      },
      "outputs": [],
      "source": [
        "\n",
        "\n",
        "def evaluate(sentence):\n",
        "  sentence = preprocess_sentence(sentence)\n",
        "\n",
        "  sentence = tf.expand_dims(\n",
        "      START_TOKEN + tokenizer.encode(sentence) + END_TOKEN, axis=0)\n",
        "\n",
        "  output = tf.expand_dims(START_TOKEN, 0)\n",
        "\n",
        "  # 디코더의 예측 시작\n",
        "  for i in range(MAX_LENGTH):\n",
        "    predictions = model(inputs=[sentence, output], training=False)\n",
        "\n",
        "    # 현재(마지막) 시점의 예측 단어를 받아온다.\n",
        "    predictions = predictions[:, -1:, :]\n",
        "    predicted_id = tf.cast(tf.argmax(predictions, axis=-1), tf.int32)\n",
        "\n",
        "    # 만약 마지막 시점의 예측 단어가 종료 토큰이라면 예측을 중단\n",
        "    if tf.equal(predicted_id, END_TOKEN[0]):\n",
        "      break\n",
        "\n",
        "    # 마지막 시점의 예측 단어를 출력에 연결한다.\n",
        "    # 이는 for문을 통해서 디코더의 입력으로 사용될 예정이다.\n",
        "    output = tf.concat([output, predicted_id], axis=-1)\n",
        "\n",
        "  return tf.squeeze(output, axis=0)\n",
        "\n",
        "\n",
        "def predict(sentence):\n",
        "  prediction = evaluate(sentence)\n",
        "\n",
        "  predicted_sentence = tokenizer.decode(\n",
        "      [i for i in prediction if i < tokenizer.vocab_size])\n",
        "\n",
        "  print('Input: {}'.format(sentence))\n",
        "  print('Output: {}'.format(predicted_sentence))\n",
        "\n",
        "  return predicted_sentence"
      ]
    },
    {
      "cell_type": "code",
      "execution_count": null,
      "id": "09768539",
      "metadata": {
        "id": "09768539"
      },
      "outputs": [],
      "source": [
        "def preprocess_sentence(sentence):\n",
        "  sentence = re.sub(r\"[^\\uAC00-\\uD7A30-9a-zA-Z\\s]\", \" \", sentence)\n",
        "  sentence = sentence.strip()\n",
        "  return sentence"
      ]
    },
    {
      "cell_type": "code",
      "execution_count": null,
      "id": "60092c7c",
      "metadata": {
        "id": "60092c7c",
        "colab": {
          "base_uri": "https://localhost:8080/"
        },
        "outputId": "913955e1-bfda-4317-ccd7-1abbb8af7cd1"
      },
      "outputs": [
        {
          "output_type": "stream",
          "name": "stdout",
          "text": [
            "Input: 영화 볼래?\n",
            "Output: [CLS] 네 고객님 조금 취소되었습니다\n"
          ]
        }
      ],
      "source": [
        "output = predict('영화 볼래?')"
      ]
    },
    {
      "cell_type": "code",
      "execution_count": null,
      "id": "d80b8741",
      "metadata": {
        "id": "d80b8741",
        "colab": {
          "base_uri": "https://localhost:8080/"
        },
        "outputId": "079db9f5-6662-481b-dcc1-6cf8a8e7efdf"
      },
      "outputs": [
        {
          "output_type": "stream",
          "name": "stdout",
          "text": [
            "Input: 축구 볼래?\n",
            "Output: [CLS] 그럼 상품은 제가 받아 보실 수 있는 부분 있습니다\n"
          ]
        }
      ],
      "source": [
        "output=predict('축구 볼래?')"
      ]
    },
    {
      "cell_type": "code",
      "execution_count": null,
      "id": "a570e094",
      "metadata": {
        "id": "a570e094",
        "colab": {
          "base_uri": "https://localhost:8080/"
        },
        "outputId": "3a984f16-7e83-4385-e2ad-2daa5ec1bcb3"
      },
      "outputs": [
        {
          "output_type": "stream",
          "name": "stdout",
          "text": [
            "Input: 우울해\n",
            "Output: [CLS] 네 제가 확인하고 안내 도와드리겠습니다\n"
          ]
        }
      ],
      "source": [
        "out=predict('우울해')"
      ]
    },
    {
      "cell_type": "code",
      "source": [
        "out=predict('이상하잖아')"
      ],
      "metadata": {
        "id": "9anrFbZSdvpC",
        "colab": {
          "base_uri": "https://localhost:8080/"
        },
        "outputId": "bf6d78a6-276d-40ae-b026-4a50e053abc2"
      },
      "id": "9anrFbZSdvpC",
      "execution_count": null,
      "outputs": [
        {
          "output_type": "stream",
          "name": "stdout",
          "text": [
            "Input: 이상하잖아\n",
            "Output: [CLS] 네 무통장 입금 처리했습니다\n"
          ]
        }
      ]
    },
    {
      "cell_type": "code",
      "source": [
        "out=predict('오늘 추워')"
      ],
      "metadata": {
        "id": "57Z7fgg9d0ab",
        "colab": {
          "base_uri": "https://localhost:8080/"
        },
        "outputId": "73a0263f-317d-4479-f41b-138d64ae0245"
      },
      "id": "57Z7fgg9d0ab",
      "execution_count": null,
      "outputs": [
        {
          "output_type": "stream",
          "name": "stdout",
          "text": [
            "Input: 오늘 추워\n",
            "Output: [CLS] 네 이용해 주셔서 감사합니다\n"
          ]
        }
      ]
    },
    {
      "cell_type": "code",
      "source": [
        "out=predict('내일 할 것 있어?')"
      ],
      "metadata": {
        "id": "-lIQG0lUd9Ba",
        "colab": {
          "base_uri": "https://localhost:8080/"
        },
        "outputId": "808f8429-ac93-4b93-a2c2-a0f6786b2838"
      },
      "id": "-lIQG0lUd9Ba",
      "execution_count": null,
      "outputs": [
        {
          "output_type": "stream",
          "name": "stdout",
          "text": [
            "Input: 내일 할 것 있어?\n",
            "Output: [CLS] 네 알겠습니다 취소 할게요\n"
          ]
        }
      ]
    },
    {
      "cell_type": "code",
      "source": [
        "out=predict('?')"
      ],
      "metadata": {
        "id": "y2vaSnh5v6Wu",
        "colab": {
          "base_uri": "https://localhost:8080/"
        },
        "outputId": "1c97f7eb-fba8-4a77-ede6-977dbb6bc332"
      },
      "id": "y2vaSnh5v6Wu",
      "execution_count": null,
      "outputs": [
        {
          "output_type": "stream",
          "name": "stdout",
          "text": [
            "Input: ?\n",
            "Output: [CLS] 네 고객님 교환 신청을 하셨다고요\n"
          ]
        }
      ]
    },
    {
      "cell_type": "code",
      "source": [
        "out=predict('!')"
      ],
      "metadata": {
        "id": "4C1w5HGqwFT5",
        "colab": {
          "base_uri": "https://localhost:8080/"
        },
        "outputId": "c518c63a-1344-48ec-f088-c76741008dc4"
      },
      "id": "4C1w5HGqwFT5",
      "execution_count": null,
      "outputs": [
        {
          "output_type": "stream",
          "name": "stdout",
          "text": [
            "Input: !\n",
            "Output: [CLS] 네 고객님 교환 신청을 하셨다고요\n"
          ]
        }
      ]
    },
    {
      "cell_type": "code",
      "source": [
        "out=predict('숙제 다 했어?')"
      ],
      "metadata": {
        "id": "ZYRiVn55wJPt",
        "colab": {
          "base_uri": "https://localhost:8080/"
        },
        "outputId": "a65e860a-1d81-45db-ca27-f19c016d2510"
      },
      "id": "ZYRiVn55wJPt",
      "execution_count": null,
      "outputs": [
        {
          "output_type": "stream",
          "name": "stdout",
          "text": [
            "Input: 숙제 다 했어?\n",
            "Output: [CLS] 그럼 반품 비용 차감 후에 환불 진행 예정입니다\n"
          ]
        }
      ]
    },
    {
      "cell_type": "code",
      "source": [
        "out=predict('환불이요')"
      ],
      "metadata": {
        "id": "OJ21vSg9wNAB",
        "colab": {
          "base_uri": "https://localhost:8080/"
        },
        "outputId": "511abfdd-a5db-48bb-f1a3-409d3c1b4fc4"
      },
      "id": "OJ21vSg9wNAB",
      "execution_count": null,
      "outputs": [
        {
          "output_type": "stream",
          "name": "stdout",
          "text": [
            "Input: 환불이요\n",
            "Output: [CLS] 네 고객님 환불 신청되셨습니다\n"
          ]
        }
      ]
    },
    {
      "cell_type": "code",
      "source": [
        "out=predict('환불하고 싶어요')"
      ],
      "metadata": {
        "id": "ilV1zfiFToCE",
        "colab": {
          "base_uri": "https://localhost:8080/"
        },
        "outputId": "efc3b7e2-5fcd-426d-888b-288e43509c1c"
      },
      "id": "ilV1zfiFToCE",
      "execution_count": null,
      "outputs": [
        {
          "output_type": "stream",
          "name": "stdout",
          "text": [
            "Input: 환불하고 싶어요\n",
            "Output: [CLS] 네 환불금 차감을 한번 확인해 보고 환불드릴 수 있습니다\n"
          ]
        }
      ]
    },
    {
      "cell_type": "code",
      "source": [
        "out=predict('환불 신청했는데 교환으로 변경하고 싶어요')"
      ],
      "metadata": {
        "id": "0LWZCOWaTqwt",
        "colab": {
          "base_uri": "https://localhost:8080/"
        },
        "outputId": "d53958a3-8f5b-4983-f09d-333036112dcd"
      },
      "id": "0LWZCOWaTqwt",
      "execution_count": null,
      "outputs": [
        {
          "output_type": "stream",
          "name": "stdout",
          "text": [
            "Input: 환불 신청했는데 교환으로 변경하고 싶어요\n",
            "Output: [CLS] 네 고객님 언제 환불 기간다고 하셨나요\n"
          ]
        }
      ]
    },
    {
      "cell_type": "code",
      "source": [
        "out=predict('교환 가능한가요?')"
      ],
      "metadata": {
        "id": "RGCjRUnFTwbH",
        "colab": {
          "base_uri": "https://localhost:8080/"
        },
        "outputId": "44fa8e24-cd55-4189-e08f-10cbfd3663c5"
      },
      "id": "RGCjRUnFTwbH",
      "execution_count": null,
      "outputs": [
        {
          "output_type": "stream",
          "name": "stdout",
          "text": [
            "Input: 교환 가능한가요?\n",
            "Output: [CLS] 상품 불량 및 오배송 등의 경우 교환시 지정 반품 접수 가능합니다\n"
          ]
        }
      ]
    },
    {
      "cell_type": "code",
      "source": [
        "out=predict('반품 가능한가요?')"
      ],
      "metadata": {
        "id": "j9CWBpBNT1cl",
        "colab": {
          "base_uri": "https://localhost:8080/"
        },
        "outputId": "b19339c1-a3f0-441f-b34a-106f908b7350"
      },
      "id": "j9CWBpBNT1cl",
      "execution_count": null,
      "outputs": [
        {
          "output_type": "stream",
          "name": "stdout",
          "text": [
            "Input: 반품 가능한가요?\n",
            "Output: [CLS] 반품은 상품을 수령하신 날짜를 기준으로 십오일 이내에 가능합니다\n"
          ]
        }
      ]
    },
    {
      "cell_type": "code",
      "source": [
        "out=predict('제품을 사용했는데 환불 가능한가요?')"
      ],
      "metadata": {
        "id": "yw5JerXJYuje",
        "colab": {
          "base_uri": "https://localhost:8080/"
        },
        "outputId": "298aa31b-6a1b-461a-81bd-cda9bb1224b3"
      },
      "id": "yw5JerXJYuje",
      "execution_count": null,
      "outputs": [
        {
          "output_type": "stream",
          "name": "stdout",
          "text": [
            "Input: 제품을 사용했는데 환불 가능한가요?\n",
            "Output: [CLS] 네 고객님 환불을 이중으로 구매하신 제품은요\n"
          ]
        }
      ]
    },
    {
      "cell_type": "code",
      "source": [
        "out=predict('사용했는데 환불 가능한가요?')"
      ],
      "metadata": {
        "id": "wrx-qRsLY59u",
        "colab": {
          "base_uri": "https://localhost:8080/"
        },
        "outputId": "556fbd51-4e2d-453b-f2ab-a21debc5a775"
      },
      "id": "wrx-qRsLY59u",
      "execution_count": null,
      "outputs": [
        {
          "output_type": "stream",
          "name": "stdout",
          "text": [
            "Input: 사용했는데 환불 가능한가요?\n",
            "Output: [CLS] 환불은 결제하신 수단이 어떻게 되실까요\n"
          ]
        }
      ]
    },
    {
      "cell_type": "code",
      "source": [
        "out=predict('환불 가능한가요?')"
      ],
      "metadata": {
        "id": "6ouBmpjTY8XU",
        "colab": {
          "base_uri": "https://localhost:8080/"
        },
        "outputId": "0371f240-4ef1-475a-e6d2-d1225ad490d9"
      },
      "id": "6ouBmpjTY8XU",
      "execution_count": null,
      "outputs": [
        {
          "output_type": "stream",
          "name": "stdout",
          "text": [
            "Input: 환불 가능한가요?\n",
            "Output: [CLS] 네 문의하신 내용에 답변을 드리겠습니다\n"
          ]
        }
      ]
    },
    {
      "cell_type": "code",
      "source": [
        "out=predict('배송지 변경하고 싶어요')"
      ],
      "metadata": {
        "id": "VW4yd6YsY_vF",
        "colab": {
          "base_uri": "https://localhost:8080/"
        },
        "outputId": "7aa67cb8-f5cb-42b6-a779-5b3b2c4ee6a1"
      },
      "id": "VW4yd6YsY_vF",
      "execution_count": null,
      "outputs": [
        {
          "output_type": "stream",
          "name": "stdout",
          "text": [
            "Input: 배송지 변경하고 싶어요\n",
            "Output: [CLS] 이미 출고된 상태라서 상품 개봉 전에는 교환 가능합니다\n"
          ]
        }
      ]
    },
    {
      "cell_type": "code",
      "source": [
        "out=predict('환불')"
      ],
      "metadata": {
        "id": "M60AHbVsZIuf",
        "colab": {
          "base_uri": "https://localhost:8080/"
        },
        "outputId": "7ec60937-1792-4eca-e01c-0cab4877100d"
      },
      "id": "M60AHbVsZIuf",
      "execution_count": null,
      "outputs": [
        {
          "output_type": "stream",
          "name": "stdout",
          "text": [
            "Input: 환불\n",
            "Output: [CLS] 네 환불 신청하셨습니다\n"
          ]
        }
      ]
    },
    {
      "cell_type": "code",
      "source": [
        "out=predict('환불하고 싶어요')"
      ],
      "metadata": {
        "id": "if62gfXyZOOH",
        "colab": {
          "base_uri": "https://localhost:8080/"
        },
        "outputId": "dae2a43e-c495-4dd3-8b27-7cbac0826895"
      },
      "id": "if62gfXyZOOH",
      "execution_count": null,
      "outputs": [
        {
          "output_type": "stream",
          "name": "stdout",
          "text": [
            "Input: 환불하고 싶어요\n",
            "Output: [CLS] 네 환불금 차감을 한번 확인해 보고 환불드릴 수 있습니다\n"
          ]
        }
      ]
    },
    {
      "cell_type": "code",
      "source": [
        "out=predict('카드 취소 가능한가요?')"
      ],
      "metadata": {
        "id": "u5yGYEOtZSKP",
        "colab": {
          "base_uri": "https://localhost:8080/"
        },
        "outputId": "2f889d55-7e02-424d-db99-59f5ab7ae3bc"
      },
      "id": "u5yGYEOtZSKP",
      "execution_count": null,
      "outputs": [
        {
          "output_type": "stream",
          "name": "stdout",
          "text": [
            "Input: 카드 취소 가능한가요?\n",
            "Output: [CLS] 네 고객님 어떤 내용인지 알려주세요\n"
          ]
        }
      ]
    },
    {
      "cell_type": "code",
      "source": [
        "out=predict('연제 오나요')"
      ],
      "metadata": {
        "id": "Pr1sTWWGZvXv",
        "colab": {
          "base_uri": "https://localhost:8080/"
        },
        "outputId": "894cacee-4427-4b56-fcb7-2c383dfd3e32"
      },
      "id": "Pr1sTWWGZvXv",
      "execution_count": null,
      "outputs": [
        {
          "output_type": "stream",
          "name": "stdout",
          "text": [
            "Input: 연제 오나요\n",
            "Output: [CLS] 네 해당 부분을 사진으로 확인하고 연락 주세요\n"
          ]
        }
      ]
    },
    {
      "cell_type": "code",
      "source": [
        "out=predict('택배')"
      ],
      "metadata": {
        "id": "X0bM77kFaClf",
        "colab": {
          "base_uri": "https://localhost:8080/"
        },
        "outputId": "7bcbeb4e-e5a7-4bc9-ce34-6c650aca5c4b"
      },
      "id": "X0bM77kFaClf",
      "execution_count": null,
      "outputs": [
        {
          "output_type": "stream",
          "name": "stdout",
          "text": [
            "Input: 택배\n",
            "Output: [CLS] 반품 택배비는 카드결제를 원칙으로 하고 있구요\n"
          ]
        }
      ]
    },
    {
      "cell_type": "code",
      "source": [
        "out=predict('반품 가능한가요?')"
      ],
      "metadata": {
        "id": "zxL4rZfSfZD2",
        "colab": {
          "base_uri": "https://localhost:8080/"
        },
        "outputId": "ce15c3ec-7adc-4dde-84da-c88d653625c1"
      },
      "id": "zxL4rZfSfZD2",
      "execution_count": null,
      "outputs": [
        {
          "output_type": "stream",
          "name": "stdout",
          "text": [
            "Input: 반품 가능한가요?\n",
            "Output: [CLS] 반품은 상품을 수령하신 날짜를 기준으로 십오일 이내에 가능합니다\n"
          ]
        }
      ]
    },
    {
      "cell_type": "code",
      "source": [
        "out=predict('환불하고 싶어요')"
      ],
      "metadata": {
        "colab": {
          "base_uri": "https://localhost:8080/"
        },
        "id": "Lkep4bow71Cu",
        "outputId": "114151e7-59ff-4f14-ac4f-c3cc224e4adf"
      },
      "id": "Lkep4bow71Cu",
      "execution_count": null,
      "outputs": [
        {
          "output_type": "stream",
          "name": "stdout",
          "text": [
            "Input: 환불하고 싶어요\n",
            "Output: [CLS] 네 환불금 차감을 한번 확인해 보고 환불드릴 수 있습니다\n"
          ]
        }
      ]
    },
    {
      "cell_type": "code",
      "source": [
        "out=predict('취소하고 싶어요')"
      ],
      "metadata": {
        "colab": {
          "base_uri": "https://localhost:8080/"
        },
        "id": "5ErvEBo3AOKc",
        "outputId": "51432938-019a-4ee7-880e-56a9fedbd6e8"
      },
      "id": "5ErvEBo3AOKc",
      "execution_count": null,
      "outputs": [
        {
          "output_type": "stream",
          "name": "stdout",
          "text": [
            "Input: 취소하고 싶어요\n",
            "Output: [CLS] 마이페이지에서 취소 교환 반품 접수 가능합니다\n"
          ]
        }
      ]
    },
    {
      "cell_type": "code",
      "source": [],
      "metadata": {
        "id": "z79Bx1WpARNL"
      },
      "id": "z79Bx1WpARNL",
      "execution_count": null,
      "outputs": []
    }
  ],
  "metadata": {
    "kernelspec": {
      "display_name": "Python 3",
      "name": "python3"
    },
    "language_info": {
      "name": "python"
    },
    "colab": {
      "provenance": []
    },
    "accelerator": "GPU",
    "gpuClass": "standard",
    "widgets": {
      "application/vnd.jupyter.widget-state+json": {
        "4dbab558ebea41808e3c24cfffb4aab7": {
          "model_module": "@jupyter-widgets/controls",
          "model_name": "HBoxModel",
          "model_module_version": "1.5.0",
          "state": {
            "_dom_classes": [],
            "_model_module": "@jupyter-widgets/controls",
            "_model_module_version": "1.5.0",
            "_model_name": "HBoxModel",
            "_view_count": null,
            "_view_module": "@jupyter-widgets/controls",
            "_view_module_version": "1.5.0",
            "_view_name": "HBoxView",
            "box_style": "",
            "children": [
              "IPY_MODEL_7635f6900e054b8681ece69432cdd560",
              "IPY_MODEL_f1274b0bd0e74901a757d3f11659cb2b",
              "IPY_MODEL_e3e1f4a8371343e6b0d69262a43976bf"
            ],
            "layout": "IPY_MODEL_bd5955765e194e2398085b49c330404b"
          }
        },
        "7635f6900e054b8681ece69432cdd560": {
          "model_module": "@jupyter-widgets/controls",
          "model_name": "HTMLModel",
          "model_module_version": "1.5.0",
          "state": {
            "_dom_classes": [],
            "_model_module": "@jupyter-widgets/controls",
            "_model_module_version": "1.5.0",
            "_model_name": "HTMLModel",
            "_view_count": null,
            "_view_module": "@jupyter-widgets/controls",
            "_view_module_version": "1.5.0",
            "_view_name": "HTMLView",
            "description": "",
            "description_tooltip": null,
            "layout": "IPY_MODEL_f9c2708cf129490d9578103d0cf00909",
            "placeholder": "​",
            "style": "IPY_MODEL_8d8f87cb6cfe446093adfd0a20068d59",
            "value": "Downloading: 100%"
          }
        },
        "f1274b0bd0e74901a757d3f11659cb2b": {
          "model_module": "@jupyter-widgets/controls",
          "model_name": "FloatProgressModel",
          "model_module_version": "1.5.0",
          "state": {
            "_dom_classes": [],
            "_model_module": "@jupyter-widgets/controls",
            "_model_module_version": "1.5.0",
            "_model_name": "FloatProgressModel",
            "_view_count": null,
            "_view_module": "@jupyter-widgets/controls",
            "_view_module_version": "1.5.0",
            "_view_name": "ProgressView",
            "bar_style": "success",
            "description": "",
            "description_tooltip": null,
            "layout": "IPY_MODEL_f2b70407d31d43ee98b0a51113256c2a",
            "max": 995526,
            "min": 0,
            "orientation": "horizontal",
            "style": "IPY_MODEL_6627e1141e3749e993baa4176874831a",
            "value": 995526
          }
        },
        "e3e1f4a8371343e6b0d69262a43976bf": {
          "model_module": "@jupyter-widgets/controls",
          "model_name": "HTMLModel",
          "model_module_version": "1.5.0",
          "state": {
            "_dom_classes": [],
            "_model_module": "@jupyter-widgets/controls",
            "_model_module_version": "1.5.0",
            "_model_name": "HTMLModel",
            "_view_count": null,
            "_view_module": "@jupyter-widgets/controls",
            "_view_module_version": "1.5.0",
            "_view_name": "HTMLView",
            "description": "",
            "description_tooltip": null,
            "layout": "IPY_MODEL_44cad28138b443d2862e239adeb1853f",
            "placeholder": "​",
            "style": "IPY_MODEL_7f6b30e61a5b47e4a60863a5f1034b6e",
            "value": " 996k/996k [00:01&lt;00:00, 892kB/s]"
          }
        },
        "bd5955765e194e2398085b49c330404b": {
          "model_module": "@jupyter-widgets/base",
          "model_name": "LayoutModel",
          "model_module_version": "1.2.0",
          "state": {
            "_model_module": "@jupyter-widgets/base",
            "_model_module_version": "1.2.0",
            "_model_name": "LayoutModel",
            "_view_count": null,
            "_view_module": "@jupyter-widgets/base",
            "_view_module_version": "1.2.0",
            "_view_name": "LayoutView",
            "align_content": null,
            "align_items": null,
            "align_self": null,
            "border": null,
            "bottom": null,
            "display": null,
            "flex": null,
            "flex_flow": null,
            "grid_area": null,
            "grid_auto_columns": null,
            "grid_auto_flow": null,
            "grid_auto_rows": null,
            "grid_column": null,
            "grid_gap": null,
            "grid_row": null,
            "grid_template_areas": null,
            "grid_template_columns": null,
            "grid_template_rows": null,
            "height": null,
            "justify_content": null,
            "justify_items": null,
            "left": null,
            "margin": null,
            "max_height": null,
            "max_width": null,
            "min_height": null,
            "min_width": null,
            "object_fit": null,
            "object_position": null,
            "order": null,
            "overflow": null,
            "overflow_x": null,
            "overflow_y": null,
            "padding": null,
            "right": null,
            "top": null,
            "visibility": null,
            "width": null
          }
        },
        "f9c2708cf129490d9578103d0cf00909": {
          "model_module": "@jupyter-widgets/base",
          "model_name": "LayoutModel",
          "model_module_version": "1.2.0",
          "state": {
            "_model_module": "@jupyter-widgets/base",
            "_model_module_version": "1.2.0",
            "_model_name": "LayoutModel",
            "_view_count": null,
            "_view_module": "@jupyter-widgets/base",
            "_view_module_version": "1.2.0",
            "_view_name": "LayoutView",
            "align_content": null,
            "align_items": null,
            "align_self": null,
            "border": null,
            "bottom": null,
            "display": null,
            "flex": null,
            "flex_flow": null,
            "grid_area": null,
            "grid_auto_columns": null,
            "grid_auto_flow": null,
            "grid_auto_rows": null,
            "grid_column": null,
            "grid_gap": null,
            "grid_row": null,
            "grid_template_areas": null,
            "grid_template_columns": null,
            "grid_template_rows": null,
            "height": null,
            "justify_content": null,
            "justify_items": null,
            "left": null,
            "margin": null,
            "max_height": null,
            "max_width": null,
            "min_height": null,
            "min_width": null,
            "object_fit": null,
            "object_position": null,
            "order": null,
            "overflow": null,
            "overflow_x": null,
            "overflow_y": null,
            "padding": null,
            "right": null,
            "top": null,
            "visibility": null,
            "width": null
          }
        },
        "8d8f87cb6cfe446093adfd0a20068d59": {
          "model_module": "@jupyter-widgets/controls",
          "model_name": "DescriptionStyleModel",
          "model_module_version": "1.5.0",
          "state": {
            "_model_module": "@jupyter-widgets/controls",
            "_model_module_version": "1.5.0",
            "_model_name": "DescriptionStyleModel",
            "_view_count": null,
            "_view_module": "@jupyter-widgets/base",
            "_view_module_version": "1.2.0",
            "_view_name": "StyleView",
            "description_width": ""
          }
        },
        "f2b70407d31d43ee98b0a51113256c2a": {
          "model_module": "@jupyter-widgets/base",
          "model_name": "LayoutModel",
          "model_module_version": "1.2.0",
          "state": {
            "_model_module": "@jupyter-widgets/base",
            "_model_module_version": "1.2.0",
            "_model_name": "LayoutModel",
            "_view_count": null,
            "_view_module": "@jupyter-widgets/base",
            "_view_module_version": "1.2.0",
            "_view_name": "LayoutView",
            "align_content": null,
            "align_items": null,
            "align_self": null,
            "border": null,
            "bottom": null,
            "display": null,
            "flex": null,
            "flex_flow": null,
            "grid_area": null,
            "grid_auto_columns": null,
            "grid_auto_flow": null,
            "grid_auto_rows": null,
            "grid_column": null,
            "grid_gap": null,
            "grid_row": null,
            "grid_template_areas": null,
            "grid_template_columns": null,
            "grid_template_rows": null,
            "height": null,
            "justify_content": null,
            "justify_items": null,
            "left": null,
            "margin": null,
            "max_height": null,
            "max_width": null,
            "min_height": null,
            "min_width": null,
            "object_fit": null,
            "object_position": null,
            "order": null,
            "overflow": null,
            "overflow_x": null,
            "overflow_y": null,
            "padding": null,
            "right": null,
            "top": null,
            "visibility": null,
            "width": null
          }
        },
        "6627e1141e3749e993baa4176874831a": {
          "model_module": "@jupyter-widgets/controls",
          "model_name": "ProgressStyleModel",
          "model_module_version": "1.5.0",
          "state": {
            "_model_module": "@jupyter-widgets/controls",
            "_model_module_version": "1.5.0",
            "_model_name": "ProgressStyleModel",
            "_view_count": null,
            "_view_module": "@jupyter-widgets/base",
            "_view_module_version": "1.2.0",
            "_view_name": "StyleView",
            "bar_color": null,
            "description_width": ""
          }
        },
        "44cad28138b443d2862e239adeb1853f": {
          "model_module": "@jupyter-widgets/base",
          "model_name": "LayoutModel",
          "model_module_version": "1.2.0",
          "state": {
            "_model_module": "@jupyter-widgets/base",
            "_model_module_version": "1.2.0",
            "_model_name": "LayoutModel",
            "_view_count": null,
            "_view_module": "@jupyter-widgets/base",
            "_view_module_version": "1.2.0",
            "_view_name": "LayoutView",
            "align_content": null,
            "align_items": null,
            "align_self": null,
            "border": null,
            "bottom": null,
            "display": null,
            "flex": null,
            "flex_flow": null,
            "grid_area": null,
            "grid_auto_columns": null,
            "grid_auto_flow": null,
            "grid_auto_rows": null,
            "grid_column": null,
            "grid_gap": null,
            "grid_row": null,
            "grid_template_areas": null,
            "grid_template_columns": null,
            "grid_template_rows": null,
            "height": null,
            "justify_content": null,
            "justify_items": null,
            "left": null,
            "margin": null,
            "max_height": null,
            "max_width": null,
            "min_height": null,
            "min_width": null,
            "object_fit": null,
            "object_position": null,
            "order": null,
            "overflow": null,
            "overflow_x": null,
            "overflow_y": null,
            "padding": null,
            "right": null,
            "top": null,
            "visibility": null,
            "width": null
          }
        },
        "7f6b30e61a5b47e4a60863a5f1034b6e": {
          "model_module": "@jupyter-widgets/controls",
          "model_name": "DescriptionStyleModel",
          "model_module_version": "1.5.0",
          "state": {
            "_model_module": "@jupyter-widgets/controls",
            "_model_module_version": "1.5.0",
            "_model_name": "DescriptionStyleModel",
            "_view_count": null,
            "_view_module": "@jupyter-widgets/base",
            "_view_module_version": "1.2.0",
            "_view_name": "StyleView",
            "description_width": ""
          }
        },
        "90f4ccfcc2f64aa782490b028b8ebf0b": {
          "model_module": "@jupyter-widgets/controls",
          "model_name": "HBoxModel",
          "model_module_version": "1.5.0",
          "state": {
            "_dom_classes": [],
            "_model_module": "@jupyter-widgets/controls",
            "_model_module_version": "1.5.0",
            "_model_name": "HBoxModel",
            "_view_count": null,
            "_view_module": "@jupyter-widgets/controls",
            "_view_module_version": "1.5.0",
            "_view_name": "HBoxView",
            "box_style": "",
            "children": [
              "IPY_MODEL_e70d91dcf8994023bdd852e0a6aed130",
              "IPY_MODEL_b12abebedc164859bb51242495d8b222",
              "IPY_MODEL_9ddce73145ca4525a6035cc5ba08697a"
            ],
            "layout": "IPY_MODEL_9b2cd389f1b840a5989f5ab26408e7c0"
          }
        },
        "e70d91dcf8994023bdd852e0a6aed130": {
          "model_module": "@jupyter-widgets/controls",
          "model_name": "HTMLModel",
          "model_module_version": "1.5.0",
          "state": {
            "_dom_classes": [],
            "_model_module": "@jupyter-widgets/controls",
            "_model_module_version": "1.5.0",
            "_model_name": "HTMLModel",
            "_view_count": null,
            "_view_module": "@jupyter-widgets/controls",
            "_view_module_version": "1.5.0",
            "_view_name": "HTMLView",
            "description": "",
            "description_tooltip": null,
            "layout": "IPY_MODEL_bf3b4b18763244d1a319aa02827c81b4",
            "placeholder": "​",
            "style": "IPY_MODEL_4ebc30f3faaf4804bb788ebb525f6d90",
            "value": "Downloading: 100%"
          }
        },
        "b12abebedc164859bb51242495d8b222": {
          "model_module": "@jupyter-widgets/controls",
          "model_name": "FloatProgressModel",
          "model_module_version": "1.5.0",
          "state": {
            "_dom_classes": [],
            "_model_module": "@jupyter-widgets/controls",
            "_model_module_version": "1.5.0",
            "_model_name": "FloatProgressModel",
            "_view_count": null,
            "_view_module": "@jupyter-widgets/controls",
            "_view_module_version": "1.5.0",
            "_view_name": "ProgressView",
            "bar_style": "success",
            "description": "",
            "description_tooltip": null,
            "layout": "IPY_MODEL_ea14f2d572204443a548c73df44febc5",
            "max": 29,
            "min": 0,
            "orientation": "horizontal",
            "style": "IPY_MODEL_3d052491d16f4c1397a714da1594ea03",
            "value": 29
          }
        },
        "9ddce73145ca4525a6035cc5ba08697a": {
          "model_module": "@jupyter-widgets/controls",
          "model_name": "HTMLModel",
          "model_module_version": "1.5.0",
          "state": {
            "_dom_classes": [],
            "_model_module": "@jupyter-widgets/controls",
            "_model_module_version": "1.5.0",
            "_model_name": "HTMLModel",
            "_view_count": null,
            "_view_module": "@jupyter-widgets/controls",
            "_view_module_version": "1.5.0",
            "_view_name": "HTMLView",
            "description": "",
            "description_tooltip": null,
            "layout": "IPY_MODEL_2f57de6289cf44008172802e1b6d33ff",
            "placeholder": "​",
            "style": "IPY_MODEL_0ab354fa8e554702a9a5a8ae57359085",
            "value": " 29.0/29.0 [00:00&lt;00:00, 1.12kB/s]"
          }
        },
        "9b2cd389f1b840a5989f5ab26408e7c0": {
          "model_module": "@jupyter-widgets/base",
          "model_name": "LayoutModel",
          "model_module_version": "1.2.0",
          "state": {
            "_model_module": "@jupyter-widgets/base",
            "_model_module_version": "1.2.0",
            "_model_name": "LayoutModel",
            "_view_count": null,
            "_view_module": "@jupyter-widgets/base",
            "_view_module_version": "1.2.0",
            "_view_name": "LayoutView",
            "align_content": null,
            "align_items": null,
            "align_self": null,
            "border": null,
            "bottom": null,
            "display": null,
            "flex": null,
            "flex_flow": null,
            "grid_area": null,
            "grid_auto_columns": null,
            "grid_auto_flow": null,
            "grid_auto_rows": null,
            "grid_column": null,
            "grid_gap": null,
            "grid_row": null,
            "grid_template_areas": null,
            "grid_template_columns": null,
            "grid_template_rows": null,
            "height": null,
            "justify_content": null,
            "justify_items": null,
            "left": null,
            "margin": null,
            "max_height": null,
            "max_width": null,
            "min_height": null,
            "min_width": null,
            "object_fit": null,
            "object_position": null,
            "order": null,
            "overflow": null,
            "overflow_x": null,
            "overflow_y": null,
            "padding": null,
            "right": null,
            "top": null,
            "visibility": null,
            "width": null
          }
        },
        "bf3b4b18763244d1a319aa02827c81b4": {
          "model_module": "@jupyter-widgets/base",
          "model_name": "LayoutModel",
          "model_module_version": "1.2.0",
          "state": {
            "_model_module": "@jupyter-widgets/base",
            "_model_module_version": "1.2.0",
            "_model_name": "LayoutModel",
            "_view_count": null,
            "_view_module": "@jupyter-widgets/base",
            "_view_module_version": "1.2.0",
            "_view_name": "LayoutView",
            "align_content": null,
            "align_items": null,
            "align_self": null,
            "border": null,
            "bottom": null,
            "display": null,
            "flex": null,
            "flex_flow": null,
            "grid_area": null,
            "grid_auto_columns": null,
            "grid_auto_flow": null,
            "grid_auto_rows": null,
            "grid_column": null,
            "grid_gap": null,
            "grid_row": null,
            "grid_template_areas": null,
            "grid_template_columns": null,
            "grid_template_rows": null,
            "height": null,
            "justify_content": null,
            "justify_items": null,
            "left": null,
            "margin": null,
            "max_height": null,
            "max_width": null,
            "min_height": null,
            "min_width": null,
            "object_fit": null,
            "object_position": null,
            "order": null,
            "overflow": null,
            "overflow_x": null,
            "overflow_y": null,
            "padding": null,
            "right": null,
            "top": null,
            "visibility": null,
            "width": null
          }
        },
        "4ebc30f3faaf4804bb788ebb525f6d90": {
          "model_module": "@jupyter-widgets/controls",
          "model_name": "DescriptionStyleModel",
          "model_module_version": "1.5.0",
          "state": {
            "_model_module": "@jupyter-widgets/controls",
            "_model_module_version": "1.5.0",
            "_model_name": "DescriptionStyleModel",
            "_view_count": null,
            "_view_module": "@jupyter-widgets/base",
            "_view_module_version": "1.2.0",
            "_view_name": "StyleView",
            "description_width": ""
          }
        },
        "ea14f2d572204443a548c73df44febc5": {
          "model_module": "@jupyter-widgets/base",
          "model_name": "LayoutModel",
          "model_module_version": "1.2.0",
          "state": {
            "_model_module": "@jupyter-widgets/base",
            "_model_module_version": "1.2.0",
            "_model_name": "LayoutModel",
            "_view_count": null,
            "_view_module": "@jupyter-widgets/base",
            "_view_module_version": "1.2.0",
            "_view_name": "LayoutView",
            "align_content": null,
            "align_items": null,
            "align_self": null,
            "border": null,
            "bottom": null,
            "display": null,
            "flex": null,
            "flex_flow": null,
            "grid_area": null,
            "grid_auto_columns": null,
            "grid_auto_flow": null,
            "grid_auto_rows": null,
            "grid_column": null,
            "grid_gap": null,
            "grid_row": null,
            "grid_template_areas": null,
            "grid_template_columns": null,
            "grid_template_rows": null,
            "height": null,
            "justify_content": null,
            "justify_items": null,
            "left": null,
            "margin": null,
            "max_height": null,
            "max_width": null,
            "min_height": null,
            "min_width": null,
            "object_fit": null,
            "object_position": null,
            "order": null,
            "overflow": null,
            "overflow_x": null,
            "overflow_y": null,
            "padding": null,
            "right": null,
            "top": null,
            "visibility": null,
            "width": null
          }
        },
        "3d052491d16f4c1397a714da1594ea03": {
          "model_module": "@jupyter-widgets/controls",
          "model_name": "ProgressStyleModel",
          "model_module_version": "1.5.0",
          "state": {
            "_model_module": "@jupyter-widgets/controls",
            "_model_module_version": "1.5.0",
            "_model_name": "ProgressStyleModel",
            "_view_count": null,
            "_view_module": "@jupyter-widgets/base",
            "_view_module_version": "1.2.0",
            "_view_name": "StyleView",
            "bar_color": null,
            "description_width": ""
          }
        },
        "2f57de6289cf44008172802e1b6d33ff": {
          "model_module": "@jupyter-widgets/base",
          "model_name": "LayoutModel",
          "model_module_version": "1.2.0",
          "state": {
            "_model_module": "@jupyter-widgets/base",
            "_model_module_version": "1.2.0",
            "_model_name": "LayoutModel",
            "_view_count": null,
            "_view_module": "@jupyter-widgets/base",
            "_view_module_version": "1.2.0",
            "_view_name": "LayoutView",
            "align_content": null,
            "align_items": null,
            "align_self": null,
            "border": null,
            "bottom": null,
            "display": null,
            "flex": null,
            "flex_flow": null,
            "grid_area": null,
            "grid_auto_columns": null,
            "grid_auto_flow": null,
            "grid_auto_rows": null,
            "grid_column": null,
            "grid_gap": null,
            "grid_row": null,
            "grid_template_areas": null,
            "grid_template_columns": null,
            "grid_template_rows": null,
            "height": null,
            "justify_content": null,
            "justify_items": null,
            "left": null,
            "margin": null,
            "max_height": null,
            "max_width": null,
            "min_height": null,
            "min_width": null,
            "object_fit": null,
            "object_position": null,
            "order": null,
            "overflow": null,
            "overflow_x": null,
            "overflow_y": null,
            "padding": null,
            "right": null,
            "top": null,
            "visibility": null,
            "width": null
          }
        },
        "0ab354fa8e554702a9a5a8ae57359085": {
          "model_module": "@jupyter-widgets/controls",
          "model_name": "DescriptionStyleModel",
          "model_module_version": "1.5.0",
          "state": {
            "_model_module": "@jupyter-widgets/controls",
            "_model_module_version": "1.5.0",
            "_model_name": "DescriptionStyleModel",
            "_view_count": null,
            "_view_module": "@jupyter-widgets/base",
            "_view_module_version": "1.2.0",
            "_view_name": "StyleView",
            "description_width": ""
          }
        },
        "97a35bb457784f41a04d2b2f52a375a7": {
          "model_module": "@jupyter-widgets/controls",
          "model_name": "HBoxModel",
          "model_module_version": "1.5.0",
          "state": {
            "_dom_classes": [],
            "_model_module": "@jupyter-widgets/controls",
            "_model_module_version": "1.5.0",
            "_model_name": "HBoxModel",
            "_view_count": null,
            "_view_module": "@jupyter-widgets/controls",
            "_view_module_version": "1.5.0",
            "_view_name": "HBoxView",
            "box_style": "",
            "children": [
              "IPY_MODEL_cadf31541ed84f34876500dcb6e43564",
              "IPY_MODEL_9f965a549cca426d849fb6a212c273a0",
              "IPY_MODEL_771ca66b74134bc8b9b076eeea1ba706"
            ],
            "layout": "IPY_MODEL_419ab09ec85346b29f30111f4add38d7"
          }
        },
        "cadf31541ed84f34876500dcb6e43564": {
          "model_module": "@jupyter-widgets/controls",
          "model_name": "HTMLModel",
          "model_module_version": "1.5.0",
          "state": {
            "_dom_classes": [],
            "_model_module": "@jupyter-widgets/controls",
            "_model_module_version": "1.5.0",
            "_model_name": "HTMLModel",
            "_view_count": null,
            "_view_module": "@jupyter-widgets/controls",
            "_view_module_version": "1.5.0",
            "_view_name": "HTMLView",
            "description": "",
            "description_tooltip": null,
            "layout": "IPY_MODEL_e4e610ec12b640508344abd008d4a978",
            "placeholder": "​",
            "style": "IPY_MODEL_5df8b56bb9cc42d98eb294edbbc7d53f",
            "value": "Downloading: 100%"
          }
        },
        "9f965a549cca426d849fb6a212c273a0": {
          "model_module": "@jupyter-widgets/controls",
          "model_name": "FloatProgressModel",
          "model_module_version": "1.5.0",
          "state": {
            "_dom_classes": [],
            "_model_module": "@jupyter-widgets/controls",
            "_model_module_version": "1.5.0",
            "_model_name": "FloatProgressModel",
            "_view_count": null,
            "_view_module": "@jupyter-widgets/controls",
            "_view_module_version": "1.5.0",
            "_view_name": "ProgressView",
            "bar_style": "success",
            "description": "",
            "description_tooltip": null,
            "layout": "IPY_MODEL_b2aee971a82f4288b3d228b4f7fc6069",
            "max": 625,
            "min": 0,
            "orientation": "horizontal",
            "style": "IPY_MODEL_0671362b4ed14e238957a6062cea3537",
            "value": 625
          }
        },
        "771ca66b74134bc8b9b076eeea1ba706": {
          "model_module": "@jupyter-widgets/controls",
          "model_name": "HTMLModel",
          "model_module_version": "1.5.0",
          "state": {
            "_dom_classes": [],
            "_model_module": "@jupyter-widgets/controls",
            "_model_module_version": "1.5.0",
            "_model_name": "HTMLModel",
            "_view_count": null,
            "_view_module": "@jupyter-widgets/controls",
            "_view_module_version": "1.5.0",
            "_view_name": "HTMLView",
            "description": "",
            "description_tooltip": null,
            "layout": "IPY_MODEL_a6713ec866554a26bdd9203f63cc8bc7",
            "placeholder": "​",
            "style": "IPY_MODEL_ae5b0acd8a7147d58ba1aa7988cd2646",
            "value": " 625/625 [00:00&lt;00:00, 8.37kB/s]"
          }
        },
        "419ab09ec85346b29f30111f4add38d7": {
          "model_module": "@jupyter-widgets/base",
          "model_name": "LayoutModel",
          "model_module_version": "1.2.0",
          "state": {
            "_model_module": "@jupyter-widgets/base",
            "_model_module_version": "1.2.0",
            "_model_name": "LayoutModel",
            "_view_count": null,
            "_view_module": "@jupyter-widgets/base",
            "_view_module_version": "1.2.0",
            "_view_name": "LayoutView",
            "align_content": null,
            "align_items": null,
            "align_self": null,
            "border": null,
            "bottom": null,
            "display": null,
            "flex": null,
            "flex_flow": null,
            "grid_area": null,
            "grid_auto_columns": null,
            "grid_auto_flow": null,
            "grid_auto_rows": null,
            "grid_column": null,
            "grid_gap": null,
            "grid_row": null,
            "grid_template_areas": null,
            "grid_template_columns": null,
            "grid_template_rows": null,
            "height": null,
            "justify_content": null,
            "justify_items": null,
            "left": null,
            "margin": null,
            "max_height": null,
            "max_width": null,
            "min_height": null,
            "min_width": null,
            "object_fit": null,
            "object_position": null,
            "order": null,
            "overflow": null,
            "overflow_x": null,
            "overflow_y": null,
            "padding": null,
            "right": null,
            "top": null,
            "visibility": null,
            "width": null
          }
        },
        "e4e610ec12b640508344abd008d4a978": {
          "model_module": "@jupyter-widgets/base",
          "model_name": "LayoutModel",
          "model_module_version": "1.2.0",
          "state": {
            "_model_module": "@jupyter-widgets/base",
            "_model_module_version": "1.2.0",
            "_model_name": "LayoutModel",
            "_view_count": null,
            "_view_module": "@jupyter-widgets/base",
            "_view_module_version": "1.2.0",
            "_view_name": "LayoutView",
            "align_content": null,
            "align_items": null,
            "align_self": null,
            "border": null,
            "bottom": null,
            "display": null,
            "flex": null,
            "flex_flow": null,
            "grid_area": null,
            "grid_auto_columns": null,
            "grid_auto_flow": null,
            "grid_auto_rows": null,
            "grid_column": null,
            "grid_gap": null,
            "grid_row": null,
            "grid_template_areas": null,
            "grid_template_columns": null,
            "grid_template_rows": null,
            "height": null,
            "justify_content": null,
            "justify_items": null,
            "left": null,
            "margin": null,
            "max_height": null,
            "max_width": null,
            "min_height": null,
            "min_width": null,
            "object_fit": null,
            "object_position": null,
            "order": null,
            "overflow": null,
            "overflow_x": null,
            "overflow_y": null,
            "padding": null,
            "right": null,
            "top": null,
            "visibility": null,
            "width": null
          }
        },
        "5df8b56bb9cc42d98eb294edbbc7d53f": {
          "model_module": "@jupyter-widgets/controls",
          "model_name": "DescriptionStyleModel",
          "model_module_version": "1.5.0",
          "state": {
            "_model_module": "@jupyter-widgets/controls",
            "_model_module_version": "1.5.0",
            "_model_name": "DescriptionStyleModel",
            "_view_count": null,
            "_view_module": "@jupyter-widgets/base",
            "_view_module_version": "1.2.0",
            "_view_name": "StyleView",
            "description_width": ""
          }
        },
        "b2aee971a82f4288b3d228b4f7fc6069": {
          "model_module": "@jupyter-widgets/base",
          "model_name": "LayoutModel",
          "model_module_version": "1.2.0",
          "state": {
            "_model_module": "@jupyter-widgets/base",
            "_model_module_version": "1.2.0",
            "_model_name": "LayoutModel",
            "_view_count": null,
            "_view_module": "@jupyter-widgets/base",
            "_view_module_version": "1.2.0",
            "_view_name": "LayoutView",
            "align_content": null,
            "align_items": null,
            "align_self": null,
            "border": null,
            "bottom": null,
            "display": null,
            "flex": null,
            "flex_flow": null,
            "grid_area": null,
            "grid_auto_columns": null,
            "grid_auto_flow": null,
            "grid_auto_rows": null,
            "grid_column": null,
            "grid_gap": null,
            "grid_row": null,
            "grid_template_areas": null,
            "grid_template_columns": null,
            "grid_template_rows": null,
            "height": null,
            "justify_content": null,
            "justify_items": null,
            "left": null,
            "margin": null,
            "max_height": null,
            "max_width": null,
            "min_height": null,
            "min_width": null,
            "object_fit": null,
            "object_position": null,
            "order": null,
            "overflow": null,
            "overflow_x": null,
            "overflow_y": null,
            "padding": null,
            "right": null,
            "top": null,
            "visibility": null,
            "width": null
          }
        },
        "0671362b4ed14e238957a6062cea3537": {
          "model_module": "@jupyter-widgets/controls",
          "model_name": "ProgressStyleModel",
          "model_module_version": "1.5.0",
          "state": {
            "_model_module": "@jupyter-widgets/controls",
            "_model_module_version": "1.5.0",
            "_model_name": "ProgressStyleModel",
            "_view_count": null,
            "_view_module": "@jupyter-widgets/base",
            "_view_module_version": "1.2.0",
            "_view_name": "StyleView",
            "bar_color": null,
            "description_width": ""
          }
        },
        "a6713ec866554a26bdd9203f63cc8bc7": {
          "model_module": "@jupyter-widgets/base",
          "model_name": "LayoutModel",
          "model_module_version": "1.2.0",
          "state": {
            "_model_module": "@jupyter-widgets/base",
            "_model_module_version": "1.2.0",
            "_model_name": "LayoutModel",
            "_view_count": null,
            "_view_module": "@jupyter-widgets/base",
            "_view_module_version": "1.2.0",
            "_view_name": "LayoutView",
            "align_content": null,
            "align_items": null,
            "align_self": null,
            "border": null,
            "bottom": null,
            "display": null,
            "flex": null,
            "flex_flow": null,
            "grid_area": null,
            "grid_auto_columns": null,
            "grid_auto_flow": null,
            "grid_auto_rows": null,
            "grid_column": null,
            "grid_gap": null,
            "grid_row": null,
            "grid_template_areas": null,
            "grid_template_columns": null,
            "grid_template_rows": null,
            "height": null,
            "justify_content": null,
            "justify_items": null,
            "left": null,
            "margin": null,
            "max_height": null,
            "max_width": null,
            "min_height": null,
            "min_width": null,
            "object_fit": null,
            "object_position": null,
            "order": null,
            "overflow": null,
            "overflow_x": null,
            "overflow_y": null,
            "padding": null,
            "right": null,
            "top": null,
            "visibility": null,
            "width": null
          }
        },
        "ae5b0acd8a7147d58ba1aa7988cd2646": {
          "model_module": "@jupyter-widgets/controls",
          "model_name": "DescriptionStyleModel",
          "model_module_version": "1.5.0",
          "state": {
            "_model_module": "@jupyter-widgets/controls",
            "_model_module_version": "1.5.0",
            "_model_name": "DescriptionStyleModel",
            "_view_count": null,
            "_view_module": "@jupyter-widgets/base",
            "_view_module_version": "1.2.0",
            "_view_name": "StyleView",
            "description_width": ""
          }
        }
      }
    }
  },
  "nbformat": 4,
  "nbformat_minor": 5
}